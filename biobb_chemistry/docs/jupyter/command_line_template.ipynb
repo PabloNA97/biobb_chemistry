{
 "cells": [
  {
   "cell_type": "markdown",
   "metadata": {},
   "source": [
    "# BioBB Chemistry Command Line Help"
   ]
  },
  {
   "cell_type": "markdown",
   "metadata": {},
   "source": [
    "Generic usage:"
   ]
  },
  {
   "cell_type": "code",
   "execution_count": null,
   "metadata": {},
   "outputs": [],
   "source": [
    "biobb_command [-h] --config CONFIG --input_file(s) <input_file(s)> --output_file <output_file>"
   ]
  },
  {
   "cell_type": "markdown",
   "metadata": {},
   "source": [
    "-----------------"
   ]
  },
  {
   "cell_type": "markdown",
   "metadata": {},
   "source": [
    "## Acpype params AC"
   ]
  },
  {
   "cell_type": "markdown",
   "metadata": {},
   "source": [
    "Small molecule parameterization for AMBER MD package."
   ]
  },
  {
   "cell_type": "markdown",
   "metadata": {},
   "source": [
    "### Get help"
   ]
  },
  {
   "cell_type": "markdown",
   "metadata": {},
   "source": [
    "Command:"
   ]
  },
  {
   "cell_type": "code",
   "execution_count": null,
   "metadata": {},
   "outputs": [],
   "source": [
    "acpype_params_ac -h"
   ]
  },
  {
   "cell_type": "code",
   "execution_count": null,
   "metadata": {},
   "outputs": [],
   "source": [
    "usage: acpype_params_ac [-h] [--config CONFIG] --input_path INPUT_PATH --output_path_frcmod OUTPUT_PATH_FRCMOD --output_path_inpcrd OUTPUT_PATH_INPCRD --output_path_lib OUTPUT_PATH_LIB --output_path_prmtop OUTPUT_PATH_PRMTOP\n",
    "\n",
    "Small molecule parameterization for AMBER MD package.\n",
    "\n",
    "optional arguments:\n",
    "  -h, --help            show this help message and exit\n",
    "  --config CONFIG       Configuration file\n",
    "\n",
    "required arguments:\n",
    "  --input_path INPUT_PATH\n",
    "                        Path to the input file. Accepted formats: pdb, mdl, mol2.\n",
    "  --output_path_frcmod OUTPUT_PATH_FRCMOD\n",
    "                        Path to the FRCMOD output file. Accepted formats: frcmod.\n",
    "  --output_path_inpcrd OUTPUT_PATH_INPCRD\n",
    "                        Path to the INPCRD output file. Accepted formats: inpcrd.\n",
    "  --output_path_lib OUTPUT_PATH_LIB\n",
    "                        Path to the LIB output file. Accepted formats: lib.\n",
    "  --output_path_prmtop OUTPUT_PATH_PRMTOP\n",
    "                        Path to the PRMTOP output file. Accepted formats: prmtop."
   ]
  },
  {
   "cell_type": "markdown",
   "metadata": {},
   "source": [
    "### I / O Arguments"
   ]
  },
  {
   "cell_type": "markdown",
   "metadata": {},
   "source": [
    "Syntax: input_argument (datatype) : Definition\n",
    "\n",
    "Config input / output arguments for this building block:\n",
    "\n",
    "* **input_path** (*str*): Path to the input file. File type: input. [Sample file](https://github.com/bioexcel/biobb_chemistry/raw/master/biobb_chemistry/test/data/acpype/acpype.params.mol2). Accepted formats: pdb, mdl, mol2.\n",
    "* **output_path_frcmod** (*str*): Path to the FRCMOD output file. File type: output. [Sample file](https://github.com/bioexcel/biobb_chemistry/raw/master/biobb_chemistry/test/reference/acpype/ref_acpype.ac.frcmod). Accepted formats: frcmod.\n",
    "* **output_path_inpcrd** (*str*): Path to the INPCRD output file. File type: output. [Sample file](https://github.com/bioexcel/biobb_chemistry/raw/master/biobb_chemistry/test/reference/acpype/ref_acpype.ac.inpcrd). Accepted formats: inpcrd.\n",
    "* **output_path_lib** (*str*): Path to the LIB output file. File type: output. [Sample file](https://github.com/bioexcel/biobb_chemistry/raw/master/biobb_chemistry/test/reference/acpype/ref_acpype.ac.lib). Accepted formats: lib.\n",
    "* **output_path_prmtop** (*str*): Path to the PRMTOP output file. File type: output. [Sample file](https://github.com/bioexcel/biobb_chemistry/raw/master/biobb_chemistry/test/reference/acpype/ref_acpype.ac.prmtop). Accepted formats: prmtop."
   ]
  },
  {
   "cell_type": "markdown",
   "metadata": {},
   "source": [
    "### Config"
   ]
  },
  {
   "cell_type": "markdown",
   "metadata": {},
   "source": [
    "Syntax: input_parameter (datatype) - (default_value) Definition\n",
    "\n",
    "Config parameters for this building block:\n",
    "\n",
    "* **basename** (*str*) - (\"BBB\") A basename for the project (folder and output files).\n",
    "* **charge** (*int*) - (0) Net molecular charge, for gas default is 0.\n",
    "* **acpype_path** (*str*) - (\"acpype\") Path to the acpype executable binary.\n",
    "* **remove_tmp** (*bool*) - (True) [WF property] Remove temporal files.\n",
    "* **restart** (*bool*) - (False) [WF property] Do not execute if output files exist.\n",
    "* **container_path** (*string*) - (None) Container path definition.\n",
    "* **container_image** (*string*) - ('mmbirb/acpype:latest') Container image definition.\n",
    "* **container_volume_path** (*string*) - ('/tmp') Container volume path definition.\n",
    "* **container_working_dir** (*string*) - (None) Container working directory definition.\n",
    "* **container_user_id** (*string*) - (None) Container user_id definition.\n",
    "* **container_shell_path** (*string*) - ('/bin/bash') Path to default shell inside the container."
   ]
  },
  {
   "cell_type": "markdown",
   "metadata": {},
   "source": [
    "### YAML"
   ]
  },
  {
   "cell_type": "markdown",
   "metadata": {},
   "source": [
    "#### Common file config"
   ]
  },
  {
   "cell_type": "code",
   "execution_count": null,
   "metadata": {},
   "outputs": [],
   "source": [
    "properties:\n",
    "  basename: \"BBB\"\n",
    "  charge: 0"
   ]
  },
  {
   "cell_type": "markdown",
   "metadata": {},
   "source": [
    "#### Docker file config"
   ]
  },
  {
   "cell_type": "code",
   "execution_count": null,
   "metadata": {},
   "outputs": [],
   "source": [
    "properties:\n",
    "  basename: \"BBB\"\n",
    "  charge: 0\n",
    "  container_path: docker\n",
    "  container_image: mmbirb/acpype:latest\n",
    "  container_volume_path: /tmp\n",
    "  container_working_dir: /tmp\n",
    "  container_shell_path: /bin/sh"
   ]
  },
  {
   "cell_type": "markdown",
   "metadata": {},
   "source": [
    "#### Singularity file config"
   ]
  },
  {
   "cell_type": "code",
   "execution_count": null,
   "metadata": {},
   "outputs": [],
   "source": [
    "properties:\n",
    "  basename: \"BBB\"\n",
    "  charge: 0\n",
    "  container_path: singularity\n",
    "  container_image: shub://bioexcel/acpype_container\n",
    "  container_volume_path: /tmp\n",
    "  container_working_dir: /tmp\n",
    "  container_shell_path: /bin/sh"
   ]
  },
  {
   "cell_type": "markdown",
   "metadata": {},
   "source": [
    "#### Command line"
   ]
  },
  {
   "cell_type": "code",
   "execution_count": null,
   "metadata": {},
   "outputs": [],
   "source": [
    "acpype_params_ac --config data/conf/ac.yml --input_path data/input/acpype.params.mol2 --output_path_frcmod data/output/output.ac.frcmod --output_path_inpcrd data/output/output.ac.inpcrd --output_path_lib data/output/output.ac.lib --output_path_prmtop data/output/output.ac.prmtop"
   ]
  },
  {
   "cell_type": "markdown",
   "metadata": {},
   "source": [
    "### JSON"
   ]
  },
  {
   "cell_type": "markdown",
   "metadata": {},
   "source": [
    "#### Common file config"
   ]
  },
  {
   "cell_type": "code",
   "execution_count": null,
   "metadata": {},
   "outputs": [],
   "source": [
    "{\n",
    "  \"properties\": {\n",
    "    \"basename\": \"BBB\",\n",
    "    \"charge\": 0\n",
    "  }\n",
    "}"
   ]
  },
  {
   "cell_type": "markdown",
   "metadata": {},
   "source": [
    "#### Docker file config"
   ]
  },
  {
   "cell_type": "code",
   "execution_count": null,
   "metadata": {},
   "outputs": [],
   "source": [
    "{\n",
    "  \"properties\": {\n",
    "    \"basename\": \"BBB\",\n",
    "    \"charge\": 0,\n",
    "    \"container_path\": \"docker\",\n",
    "    \"container_image\": \"mmbirb/acpype:latest\",\n",
    "    \"container_volume_path\": \"/tmp\",\n",
    "    \"container_working_dir\": \"/tmp\",\n",
    "    \"container_shell_path\": \"/bin/sh\"\n",
    "  }\n",
    "}"
   ]
  },
  {
   "cell_type": "markdown",
   "metadata": {},
   "source": [
    "#### Singularity file config"
   ]
  },
  {
   "cell_type": "code",
   "execution_count": null,
   "metadata": {},
   "outputs": [],
   "source": [
    "{\n",
    "  \"properties\": {\n",
    "    \"basename\": \"BBB\",\n",
    "    \"charge\": 0,\n",
    "    \"container_path\": \"singularity\",\n",
    "    \"container_image\": \"shub://bioexcel/acpype_container\",\n",
    "    \"container_volume_path\": \"/tmp\",\n",
    "    \"container_working_dir\": \"/tmp\",\n",
    "    \"container_shell_path\": \"/bin/sh\"\n",
    "  }\n",
    "}"
   ]
  },
  {
   "cell_type": "markdown",
   "metadata": {},
   "source": [
    "#### Command line"
   ]
  },
  {
   "cell_type": "code",
   "execution_count": null,
   "metadata": {},
   "outputs": [],
   "source": [
    "acpype_params_ac --config data/conf/ac.json --input_path data/input/acpype.params.mol2 --output_path_frcmod data/output/output.ac.frcmod --output_path_inpcrd data/output/output.ac.inpcrd --output_path_lib data/output/output.ac.lib --output_path_prmtop data/output/output.ac.prmtop"
   ]
  },
  {
   "cell_type": "markdown",
   "metadata": {},
   "source": [
    "## Acpype params CNS"
   ]
  },
  {
   "cell_type": "markdown",
   "metadata": {},
   "source": [
    "Small molecule parameterization for CNS/XPLOR MD package."
   ]
  },
  {
   "cell_type": "markdown",
   "metadata": {},
   "source": [
    "### Get help"
   ]
  },
  {
   "cell_type": "markdown",
   "metadata": {},
   "source": [
    "Command:"
   ]
  },
  {
   "cell_type": "code",
   "execution_count": null,
   "metadata": {},
   "outputs": [],
   "source": [
    "acpype_params_cns -h"
   ]
  },
  {
   "cell_type": "code",
   "execution_count": null,
   "metadata": {},
   "outputs": [],
   "source": [
    "usage: acpype_params_cns [-h] [--config CONFIG] --input_path INPUT_PATH --output_path_par OUTPUT_PATH_PAR --output_path_inp OUTPUT_PATH_INP --output_path_top OUTPUT_PATH_TOP\n",
    "\n",
    "Small molecule parameterization for CNS/XPLOR MD package.\n",
    "\n",
    "optional arguments:\n",
    "  -h, --help            show this help message and exit\n",
    "  --config CONFIG       Configuration file\n",
    "\n",
    "required arguments:\n",
    "  --input_path INPUT_PATH\n",
    "                        Path to the input file. Accepted formats: pdb, mdl, mol2.\n",
    "  --output_path_par OUTPUT_PATH_PAR\n",
    "                        Path to the PAR output file. Accepted formats: par.\n",
    "  --output_path_inp OUTPUT_PATH_INP\n",
    "                        Path to the INP output file. Accepted formats: inp.\n",
    "  --output_path_top OUTPUT_PATH_TOP\n",
    "                        Path to the TOP output file. Accepted formats: top."
   ]
  },
  {
   "cell_type": "markdown",
   "metadata": {},
   "source": [
    "### I / O Arguments"
   ]
  },
  {
   "cell_type": "markdown",
   "metadata": {},
   "source": [
    "Syntax: input_argument (datatype) : Definition\n",
    "\n",
    "Config input / output arguments for this building block:\n",
    "\n",
    "* **input_path** (*str*): Path to the input file. File type: input. [Sample file](https://github.com/bioexcel/biobb_chemistry/raw/master/biobb_chemistry/test/data/acpype/acpype.params.mol2). Accepted formats: pdb, mdl, mol2.\n",
    "* **output_path_par** (*str*): Path to the PAR output file. File type: output. [Sample file](https://github.com/bioexcel/biobb_chemistry/raw/master/biobb_chemistry/test/reference/acpype/ref_acpype.cns.par). Accepted formats: par.\n",
    "* **output_path_inp** (*str*): Path to the INP output file. File type: output. [Sample file](https://github.com/bioexcel/biobb_chemistry/raw/master/biobb_chemistry/test/reference/acpype/ref_acpype.cns.inp). Accepted formats: inp.\n",
    "* **output_path_top** (*str*): Path to the TOP output file. File type: output. [Sample file](https://github.com/bioexcel/biobb_chemistry/raw/master/biobb_chemistry/test/reference/acpype/ref_acpype.cns.top). Accepted formats: top."
   ]
  },
  {
   "cell_type": "markdown",
   "metadata": {},
   "source": [
    "### Config"
   ]
  },
  {
   "cell_type": "markdown",
   "metadata": {},
   "source": [
    "Syntax: input_parameter (datatype) - (default_value) Definition\n",
    "\n",
    "Config parameters for this building block:\n",
    "\n",
    "* **basename** (*str*) - (\"BBB\") A basename for the project (folder and output files).\n",
    "* **charge** (*int*) - (0) Net molecular charge, for gas default is 0.\n",
    "* **acpype_path** (*str*) - (\"acpype\") Path to the acpype executable binary.\n",
    "* **remove_tmp** (*bool*) - (True) [WF property] Remove temporal files.\n",
    "* **restart** (*bool*) - (False) [WF property] Do not execute if output files exist.\n",
    "* **container_path** (*string*) - (None) Container path definition.\n",
    "* **container_image** (*string*) - ('mmbirb/acpype:latest') Container image definition.\n",
    "* **container_volume_path** (*string*) - ('/tmp') Container volume path definition.\n",
    "* **container_working_dir** (*string*) - (None) Container working directory definition.\n",
    "* **container_user_id** (*string*) - (None) Container user_id definition.\n",
    "* **container_shell_path** (*string*) - ('/bin/bash') Path to default shell inside the container."
   ]
  },
  {
   "cell_type": "markdown",
   "metadata": {},
   "source": [
    "### YAML"
   ]
  },
  {
   "cell_type": "markdown",
   "metadata": {},
   "source": [
    "#### Common file config"
   ]
  },
  {
   "cell_type": "code",
   "execution_count": null,
   "metadata": {},
   "outputs": [],
   "source": [
    "properties:\n",
    "  basename: \"BBB\"\n",
    "  charge: 0"
   ]
  },
  {
   "cell_type": "markdown",
   "metadata": {},
   "source": [
    "#### Docker file config"
   ]
  },
  {
   "cell_type": "code",
   "execution_count": null,
   "metadata": {},
   "outputs": [],
   "source": [
    "properties:\n",
    "  basename: \"BBB\"\n",
    "  charge: 0\n",
    "  container_path: docker\n",
    "  container_image: mmbirb/acpype:latest\n",
    "  container_volume_path: /tmp\n",
    "  container_working_dir: /tmp\n",
    "  container_shell_path: /bin/sh"
   ]
  },
  {
   "cell_type": "markdown",
   "metadata": {},
   "source": [
    "#### Singularity file config"
   ]
  },
  {
   "cell_type": "code",
   "execution_count": null,
   "metadata": {},
   "outputs": [],
   "source": [
    "properties:\n",
    "  basename: \"BBB\"\n",
    "  charge: 0\n",
    "  container_path: singularity\n",
    "  container_image: shub://bioexcel/acpype_container\n",
    "  container_volume_path: /tmp\n",
    "  container_working_dir: /tmp\n",
    "  container_shell_path: /bin/sh"
   ]
  },
  {
   "cell_type": "markdown",
   "metadata": {},
   "source": [
    "#### Command line"
   ]
  },
  {
   "cell_type": "code",
   "execution_count": null,
   "metadata": {},
   "outputs": [],
   "source": [
    "acpype_params_cns --config data/conf/cns.yml --input_path data/input/acpype.params.mol2 --output_path_par data/output/output.cns.par --output_path_inp data/output/output.cns.inp --output_path_top data/output/output.cns.top"
   ]
  },
  {
   "cell_type": "markdown",
   "metadata": {},
   "source": [
    "### JSON"
   ]
  },
  {
   "cell_type": "markdown",
   "metadata": {},
   "source": [
    "#### Common file config"
   ]
  },
  {
   "cell_type": "code",
   "execution_count": null,
   "metadata": {},
   "outputs": [],
   "source": [
    "{\n",
    "  \"properties\": {\n",
    "    \"basename\": \"BBB\",\n",
    "    \"charge\": 0\n",
    "  }\n",
    "}"
   ]
  },
  {
   "cell_type": "markdown",
   "metadata": {},
   "source": [
    "#### Docker file config"
   ]
  },
  {
   "cell_type": "code",
   "execution_count": null,
   "metadata": {},
   "outputs": [],
   "source": [
    "{\n",
    "  \"properties\": {\n",
    "    \"basename\": \"BBB\",\n",
    "    \"charge\": 0,\n",
    "    \"container_path\": \"docker\",\n",
    "    \"container_image\": \"mmbirb/acpype:latest\",\n",
    "    \"container_volume_path\": \"/tmp\",\n",
    "    \"container_working_dir\": \"/tmp\",\n",
    "    \"container_shell_path\": \"/bin/sh\"\n",
    "  }\n",
    "}"
   ]
  },
  {
   "cell_type": "markdown",
   "metadata": {},
   "source": [
    "#### Singularity file config"
   ]
  },
  {
   "cell_type": "code",
   "execution_count": null,
   "metadata": {},
   "outputs": [],
   "source": [
    "{\n",
    "  \"properties\": {\n",
    "    \"basename\": \"BBB\",\n",
    "    \"charge\": 0,\n",
    "    \"container_path\": \"singularity\",\n",
    "    \"container_image\": \"shub://bioexcel/acpype_container\",\n",
    "    \"container_volume_path\": \"/tmp\",\n",
    "    \"container_working_dir\": \"/tmp\",\n",
    "    \"container_shell_path\": \"/bin/sh\"\n",
    "  }\n",
    "}"
   ]
  },
  {
   "cell_type": "markdown",
   "metadata": {},
   "source": [
    "#### Command line"
   ]
  },
  {
   "cell_type": "code",
   "execution_count": null,
   "metadata": {},
   "outputs": [],
   "source": [
    "acpype_params_cns --config data/conf/cns.json --input_path data/input/acpype.params.mol2 --output_path_par data/output/output.cns.par --output_path_inp data/output/output.cns.inp --output_path_top data/output/output.cns.top "
   ]
  },
  {
   "cell_type": "markdown",
   "metadata": {},
   "source": [
    "## Acpype params GMX"
   ]
  },
  {
   "cell_type": "markdown",
   "metadata": {},
   "source": [
    "Small molecule parameterization for GROMACS MD package."
   ]
  },
  {
   "cell_type": "markdown",
   "metadata": {},
   "source": [
    "### Get help"
   ]
  },
  {
   "cell_type": "markdown",
   "metadata": {},
   "source": [
    "Command:"
   ]
  },
  {
   "cell_type": "code",
   "execution_count": null,
   "metadata": {},
   "outputs": [],
   "source": [
    "acpype_params_gmx -h"
   ]
  },
  {
   "cell_type": "code",
   "execution_count": null,
   "metadata": {},
   "outputs": [],
   "source": [
    "usage: acpype_params_gmx [-h] [--config CONFIG] --input_path INPUT_PATH --output_path_gro OUTPUT_PATH_GRO --output_path_itp OUTPUT_PATH_ITP --output_path_top OUTPUT_PATH_TOP\n",
    "\n",
    "Small molecule parameterization for GROMACS MD package.\n",
    "\n",
    "optional arguments:\n",
    "  -h, --help            show this help message and exit\n",
    "  --config CONFIG       Configuration file\n",
    "\n",
    "required arguments:\n",
    "  --input_path INPUT_PATH\n",
    "                        Path to the input file. Accepted formats: pdb, mdl, mol2.\n",
    "  --output_path_gro OUTPUT_PATH_GRO\n",
    "                        Path to the GRO output file. Accepted formats: gro.\n",
    "  --output_path_itp OUTPUT_PATH_ITP\n",
    "                        Path to the ITP output file. Accepted formats: itp.\n",
    "  --output_path_top OUTPUT_PATH_TOP\n",
    "                        Path to the TOP output file. Accepted formats: top."
   ]
  },
  {
   "cell_type": "markdown",
   "metadata": {},
   "source": [
    "### I / O Arguments"
   ]
  },
  {
   "cell_type": "markdown",
   "metadata": {},
   "source": [
    "Syntax: input_argument (datatype) : Definition\n",
    "\n",
    "Config input / output arguments for this building block:\n",
    "\n",
    "* **input_path** (*str*): Path to the input file. File type: input. [Sample file](https://github.com/bioexcel/biobb_chemistry/raw/master/biobb_chemistry/test/data/acpype/acpype.params.mol2). Accepted formats: pdb, mdl, mol2.\n",
    "* **output_path_gro** (*str*): Path to the GRO output file. File type: output. [Sample file](https://github.com/bioexcel/biobb_chemistry/raw/master/biobb_chemistry/test/reference/acpype/ref_acpype.gmx.gro). Accepted formats: gro.\n",
    "* **output_path_itp** (*str*): Path to the ITP output file. File type: output. [Sample file](https://github.com/bioexcel/biobb_chemistry/raw/master/biobb_chemistry/test/reference/acpype/ref_acpype.gmx.itp). Accepted formats: itp.\n",
    "* **output_path_top** (*str*): Path to the TOP output file. File type: output. [Sample file](https://github.com/bioexcel/biobb_chemistry/raw/master/biobb_chemistry/test/reference/acpype/ref_acpype.gmx.top). Accepted formats: top."
   ]
  },
  {
   "cell_type": "markdown",
   "metadata": {},
   "source": [
    "### Config"
   ]
  },
  {
   "cell_type": "markdown",
   "metadata": {},
   "source": [
    "Syntax: input_parameter (datatype) - (default_value) Definition\n",
    "\n",
    "Config parameters for this building block:\n",
    "\n",
    "* **basename** (*str*) - (\"BBB\") A basename for the project (folder and output files).\n",
    "* **charge** (*int*) - (0) Net molecular charge, for gas default is 0.\n",
    "* **acpype_path** (*str*) - (\"acpype\") Path to the acpype executable binary.\n",
    "* **remove_tmp** (*bool*) - (True) [WF property] Remove temporal files.\n",
    "* **restart** (*bool*) - (False) [WF property] Do not execute if output files exist.\n",
    "* **container_path** (*string*) - (None) Container path definition.\n",
    "* **container_image** (*string*) - ('mmbirb/acpype:latest') Container image definition.\n",
    "* **container_volume_path** (*string*) - ('/tmp') Container volume path definition.\n",
    "* **container_working_dir** (*string*) - (None) Container working directory definition.\n",
    "* **container_user_id** (*string*) - (None) Container user_id definition.\n",
    "* **container_shell_path** (*string*) - ('/bin/bash') Path to default shell inside the container."
   ]
  },
  {
   "cell_type": "markdown",
   "metadata": {},
   "source": [
    "### YAML"
   ]
  },
  {
   "cell_type": "markdown",
   "metadata": {},
   "source": [
    "#### Common file config"
   ]
  },
  {
   "cell_type": "code",
   "execution_count": null,
   "metadata": {},
   "outputs": [],
   "source": [
    "properties:\n",
    "  basename: \"BBB\"\n",
    "  charge: 0"
   ]
  },
  {
   "cell_type": "markdown",
   "metadata": {},
   "source": [
    "#### Docker file config"
   ]
  },
  {
   "cell_type": "code",
   "execution_count": null,
   "metadata": {},
   "outputs": [],
   "source": [
    "properties:\n",
    "  basename: \"BBB\"\n",
    "  charge: 0\n",
    "  container_path: docker\n",
    "  container_image: mmbirb/acpype:latest\n",
    "  container_volume_path: /tmp\n",
    "  container_working_dir: /tmp\n",
    "  container_shell_path: /bin/sh"
   ]
  },
  {
   "cell_type": "markdown",
   "metadata": {},
   "source": [
    "#### Singularity file config"
   ]
  },
  {
   "cell_type": "code",
   "execution_count": null,
   "metadata": {},
   "outputs": [],
   "source": [
    "properties:\n",
    "  basename: \"BBB\"\n",
    "  charge: 0\n",
    "  container_path: singularity\n",
    "  container_image: shub://bioexcel/acpype_container\n",
    "  container_volume_path: /tmp\n",
    "  container_working_dir: /tmp\n",
    "  container_shell_path: /bin/sh"
   ]
  },
  {
   "cell_type": "markdown",
   "metadata": {},
   "source": [
    "#### Command line"
   ]
  },
  {
   "cell_type": "code",
   "execution_count": null,
   "metadata": {},
   "outputs": [],
   "source": [
    "acpype_params_gmx --config data/conf/gmx.yml --input_path data/input/acpype.params.mol2 --output_path_gro data/output/output.gmx.gro --output_path_itp data/output/output.gmx.itp --output_path_top data/output/output.gmx.top"
   ]
  },
  {
   "cell_type": "markdown",
   "metadata": {},
   "source": [
    "### JSON"
   ]
  },
  {
   "cell_type": "markdown",
   "metadata": {},
   "source": [
    "#### Common file config"
   ]
  },
  {
   "cell_type": "code",
   "execution_count": null,
   "metadata": {},
   "outputs": [],
   "source": [
    "{\n",
    "  \"properties\": {\n",
    "    \"basename\": \"BBB\",\n",
    "    \"charge\": 0\n",
    "  }\n",
    "}"
   ]
  },
  {
   "cell_type": "markdown",
   "metadata": {},
   "source": [
    "#### Docker file config"
   ]
  },
  {
   "cell_type": "code",
   "execution_count": null,
   "metadata": {},
   "outputs": [],
   "source": [
    "{\n",
    "  \"properties\": {\n",
    "    \"basename\": \"BBB\",\n",
    "    \"charge\": 0,\n",
    "    \"container_path\": \"docker\",\n",
    "    \"container_image\": \"mmbirb/acpype:latest\",\n",
    "    \"container_volume_path\": \"/tmp\",\n",
    "    \"container_working_dir\": \"/tmp\",\n",
    "    \"container_shell_path\": \"/bin/sh\"\n",
    "  }\n",
    "}"
   ]
  },
  {
   "cell_type": "markdown",
   "metadata": {},
   "source": [
    "#### Singularity file config"
   ]
  },
  {
   "cell_type": "code",
   "execution_count": null,
   "metadata": {},
   "outputs": [],
   "source": [
    "{\n",
    "  \"properties\": {\n",
    "    \"basename\": \"BBB\",\n",
    "    \"charge\": 0,\n",
    "    \"container_path\": \"singularity\",\n",
    "    \"container_image\": \"shub://bioexcel/acpype_container\",\n",
    "    \"container_volume_path\": \"/tmp\",\n",
    "    \"container_working_dir\": \"/tmp\",\n",
    "    \"container_shell_path\": \"/bin/sh\"\n",
    "  }\n",
    "}"
   ]
  },
  {
   "cell_type": "markdown",
   "metadata": {},
   "source": [
    "#### Command line"
   ]
  },
  {
   "cell_type": "code",
   "execution_count": null,
   "metadata": {},
   "outputs": [],
   "source": [
    "acpype_params_gmx --config data/conf/gmx.json --input_path data/input/acpype.params.mol2 --output_path_gro data/output/output.gmx.gro --output_path_itp data/output/output.gmx.itp --output_path_top data/output/output.gmx.top"
   ]
  },
  {
   "cell_type": "markdown",
   "metadata": {},
   "source": [
    "## Acpype params GMX OPLS"
   ]
  },
  {
   "cell_type": "markdown",
   "metadata": {},
   "source": [
    "Small molecule parameterization for OPLS/AA MD package."
   ]
  },
  {
   "cell_type": "markdown",
   "metadata": {},
   "source": [
    "### Get help"
   ]
  },
  {
   "cell_type": "markdown",
   "metadata": {},
   "source": [
    "Command:"
   ]
  },
  {
   "cell_type": "code",
   "execution_count": null,
   "metadata": {},
   "outputs": [],
   "source": [
    "acpype_params_gmx_opls -h"
   ]
  },
  {
   "cell_type": "code",
   "execution_count": null,
   "metadata": {},
   "outputs": [],
   "source": [
    "usage: acpype_params_gmx_opls [-h] [--config CONFIG] --input_path INPUT_PATH --output_path_itp OUTPUT_PATH_ITP --output_path_top OUTPUT_PATH_TOP\n",
    "\n",
    "Small molecule parameterization for OPLS/AA MD package.\n",
    "\n",
    "optional arguments:\n",
    "  -h, --help            show this help message and exit\n",
    "  --config CONFIG       Configuration file\n",
    "\n",
    "required arguments:\n",
    "  --input_path INPUT_PATH\n",
    "                        Path to the input file. Accepted formats: pdb, mdl, mol2.\n",
    "  --output_path_itp OUTPUT_PATH_ITP\n",
    "                        Path to the ITP output file. Accepted formats: itp.\n",
    "  --output_path_top OUTPUT_PATH_TOP\n",
    "                        Path to the TOP output file. Accepted formats: top."
   ]
  },
  {
   "cell_type": "markdown",
   "metadata": {},
   "source": [
    "### I / O Arguments"
   ]
  },
  {
   "cell_type": "markdown",
   "metadata": {},
   "source": [
    "Syntax: input_argument (datatype) : Definition\n",
    "\n",
    "Config input / output arguments for this building block:\n",
    "\n",
    "* **input_path** (*str*): Path to the input file. File type: input. [Sample file](https://github.com/bioexcel/biobb_chemistry/raw/master/biobb_chemistry/test/data/acpype/acpype.params.mol2). Accepted formats: pdb, mdl, mol2.\n",
    "* **output_path_itp** (*str*): Path to the ITP output file. File type: output. [Sample file](https://github.com/bioexcel/biobb_chemistry/raw/master/biobb_chemistry/test/reference/acpype/ref_acpype.gmx.opls.itp). Accepted formats: itp.\n",
    "* **output_path_top** (*str*): Path to the TOP output file. File type: output. [Sample file](https://github.com/bioexcel/biobb_chemistry/raw/master/biobb_chemistry/test/reference/acpype/ref_acpype.gmx.opls.top). Accepted formats: top."
   ]
  },
  {
   "cell_type": "markdown",
   "metadata": {},
   "source": [
    "### Config"
   ]
  },
  {
   "cell_type": "markdown",
   "metadata": {},
   "source": [
    "Syntax: input_parameter (datatype) - (default_value) Definition\n",
    "\n",
    "Config parameters for this building block:\n",
    "\n",
    "* **basename** (*str*) - (\"BBB\") A basename for the project (folder and output files).\n",
    "* **charge** (*int*) - (0) Net molecular charge, for gas default is 0.\n",
    "* **acpype_path** (*str*) - (\"acpype\") Path to the acpype executable binary.\n",
    "* **remove_tmp** (*bool*) - (True) [WF property] Remove temporal files.\n",
    "* **restart** (*bool*) - (False) [WF property] Do not execute if output files exist.\n",
    "* **container_path** (*string*) - (None) Container path definition.\n",
    "* **container_image** (*string*) - ('mmbirb/acpype:latest') Container image definition.\n",
    "* **container_volume_path** (*string*) - ('/tmp') Container volume path definition.\n",
    "* **container_working_dir** (*string*) - (None) Container working directory definition.\n",
    "* **container_user_id** (*string*) - (None) Container user_id definition.\n",
    "* **container_shell_path** (*string*) - ('/bin/bash') Path to default shell inside the container."
   ]
  },
  {
   "cell_type": "markdown",
   "metadata": {},
   "source": [
    "### YAML"
   ]
  },
  {
   "cell_type": "markdown",
   "metadata": {},
   "source": [
    "### YAML file config"
   ]
  },
  {
   "cell_type": "markdown",
   "metadata": {},
   "source": [
    "#### Common file config"
   ]
  },
  {
   "cell_type": "code",
   "execution_count": null,
   "metadata": {},
   "outputs": [],
   "source": [
    "properties:\n",
    "  basename: \"BBB\"\n",
    "  charge: 0"
   ]
  },
  {
   "cell_type": "markdown",
   "metadata": {},
   "source": [
    "#### Docker file config"
   ]
  },
  {
   "cell_type": "code",
   "execution_count": null,
   "metadata": {},
   "outputs": [],
   "source": [
    "properties:\n",
    "  basename: \"BBB\"\n",
    "  charge: 0\n",
    "  container_path: docker\n",
    "  container_image: mmbirb/acpype:latest\n",
    "  container_volume_path: /tmp\n",
    "  container_working_dir: /tmp\n",
    "  container_shell_path: /bin/sh"
   ]
  },
  {
   "cell_type": "markdown",
   "metadata": {},
   "source": [
    "#### Singularity file config"
   ]
  },
  {
   "cell_type": "code",
   "execution_count": null,
   "metadata": {},
   "outputs": [],
   "source": [
    "properties:\n",
    "  basename: \"BBB\"\n",
    "  charge: 0\n",
    "  container_path: singularity\n",
    "  container_image: shub://bioexcel/acpype_container\n",
    "  container_volume_path: /tmp\n",
    "  container_working_dir: /tmp\n",
    "  container_shell_path: /bin/sh"
   ]
  },
  {
   "cell_type": "markdown",
   "metadata": {},
   "source": [
    "#### Command line"
   ]
  },
  {
   "cell_type": "code",
   "execution_count": null,
   "metadata": {},
   "outputs": [],
   "source": [
    "acpype_params_gmx_opls --config data/conf/gmx.yml --input_path data/input/acpype.params.mol2 --output_path_itp data/output/output.gmx.opls.itp --output_path_top data/output/output.gmx.opls.top"
   ]
  },
  {
   "cell_type": "markdown",
   "metadata": {},
   "source": [
    "### JSON"
   ]
  },
  {
   "cell_type": "markdown",
   "metadata": {},
   "source": [
    "#### Common  file config"
   ]
  },
  {
   "cell_type": "code",
   "execution_count": null,
   "metadata": {},
   "outputs": [],
   "source": [
    "{\n",
    "  \"properties\": {\n",
    "    \"basename\": \"BBB\",\n",
    "    \"charge\": 0\n",
    "  }\n",
    "}"
   ]
  },
  {
   "cell_type": "markdown",
   "metadata": {},
   "source": [
    "#### Docker  file config"
   ]
  },
  {
   "cell_type": "code",
   "execution_count": null,
   "metadata": {},
   "outputs": [],
   "source": [
    "{\n",
    "  \"properties\": {\n",
    "    \"basename\": \"BBB\",\n",
    "    \"charge\": 0,\n",
    "    \"container_path\": \"docker\",\n",
    "    \"container_image\": \"mmbirb/acpype:latest\",\n",
    "    \"container_volume_path\": \"/tmp\",\n",
    "    \"container_working_dir\": \"/tmp\",\n",
    "    \"container_shell_path\": \"/bin/sh\"\n",
    "  }\n",
    "}"
   ]
  },
  {
   "cell_type": "markdown",
   "metadata": {},
   "source": [
    "#### Singularity  file config"
   ]
  },
  {
   "cell_type": "code",
   "execution_count": null,
   "metadata": {},
   "outputs": [],
   "source": [
    "{\n",
    "  \"properties\": {\n",
    "    \"basename\": \"BBB\",\n",
    "    \"charge\": 0,\n",
    "    \"container_path\": \"singularity\",\n",
    "    \"container_image\": \"shub://bioexcel/acpype_container\",\n",
    "    \"container_volume_path\": \"/tmp\",\n",
    "    \"container_working_dir\": \"/tmp\",\n",
    "    \"container_shell_path\": \"/bin/sh\"\n",
    "  }\n",
    "}"
   ]
  },
  {
   "cell_type": "markdown",
   "metadata": {},
   "source": [
    "#### Command line"
   ]
  },
  {
   "cell_type": "code",
   "execution_count": null,
   "metadata": {},
   "outputs": [],
   "source": [
    "acpype_params_gmx_opls --config data/conf/gmx.json --input_path data/input/acpype.params.mol2 --output_path_itp data/output/output.gmx.itp --output_path_top data/output/output.gmx.top"
   ]
  },
  {
   "cell_type": "markdown",
   "metadata": {},
   "source": [
    "## Babel add hydrogens"
   ]
  },
  {
   "cell_type": "markdown",
   "metadata": {},
   "source": [
    "Adds hydrogen atoms to small molecules."
   ]
  },
  {
   "cell_type": "markdown",
   "metadata": {},
   "source": [
    "### Get help"
   ]
  },
  {
   "cell_type": "markdown",
   "metadata": {},
   "source": [
    "Command:"
   ]
  },
  {
   "cell_type": "code",
   "execution_count": null,
   "metadata": {},
   "outputs": [],
   "source": [
    "babel_add_hydrogens -h"
   ]
  },
  {
   "cell_type": "code",
   "execution_count": null,
   "metadata": {},
   "outputs": [],
   "source": [
    "usage: babel_add_hydrogens [-h] [--config CONFIG] --input_path INPUT_PATH --output_path OUTPUT_PATH\n",
    "\n",
    "Adds hydrogen atoms to small molecules.\n",
    "\n",
    "optional arguments:\n",
    "  -h, --help            show this help message and exit\n",
    "  --config CONFIG       Configuration file\n",
    "\n",
    "required arguments:\n",
    "  --input_path INPUT_PATH\n",
    "                        Path to the input file. Accepted formats: abinit, acesout, acr, adfout, alc, aoforce, arc, axsf, bgf, box, bs, c09out, c3d2, caccrt, can, car, castep, ccc, cdjson, cdx, cdxml, cif, ck, cml, cmlr, CONFIG, CONTCAR, CONTFF, crk2d, crk3d, ct, cub, cube, dallog, dalmol, dat, dmol, dx, ent, exyz, fa, fasta, fch, fchk, fck, feat, fhiaims, fract, fs, fsa, g03, g09, g92, g94, g98, gal, gam, gamess, gamin, gamout, got, gpr, gro, gukin, gukout, gzmat, hin, HISTORY, inchi, inp, ins, jin, jout, log, lpmd, mcdl, mcif, MDFF, mdl, ml2, mmcif, mmd, mmod, mol, mol2, mold, molden, molf, moo, mop, mopcrt, mopin, mopout, mpc, mpo, mpqc, mrv, msi, nwo, orca, out, outmol, output, pc, pcjson, pcm, pdb, pdbqt, png, pos, POSCAR, POSFF, pqr, pqs, prep, pwscf, qcout, res, rsmi, rxn, sd, sdf, siesta, smi, smiles, smy, sy2, t41, tdd, text, therm, tmol, txt, txyz, unixyz, VASP, vmol, xml, xsf, xtc, xyz, yob.\n",
    "  --output_path OUTPUT_PATH\n",
    "                        Path to the output file. Accepted formats: acesin, adf, alc, ascii, bgf, box, bs, c3d1, c3d2, cac, caccrt, cache, cacint, can, cdjson, cdxml, cht, cif, ck, cml, cmlr, com, confabreport, CONFIG, CONTCAR, CONTFF, copy, crk2d, crk3d, csr, cssr, ct, cub, cube, dalmol, dmol, dx, ent, exyz, fa, fasta, feat, fh, fhiaims, fix, fps, fpt, fract, fs, fsa, gamin, gau, gjc, gjf, gpr, gr96, gro, gukin, gukout, gzmat, hin, inchi, inchikey, inp, jin, k, lmpdat, lpmd, mcdl, mcif, MDFF, mdl, ml2, mmcif, mmd, mmod, mna, mol, mol2, mold, molden, molf, molreport, mop, mopcrt, mopin, mp, mpc, mpd, mpqcin, mrv, msms, nul, nw, orcainp, outmol, paint, pcjson, pcm, pdb, pdbqt, png, pointcloud, POSCAR, POSFF, pov, pqr, pqs, qcin, report, rsmi, rxn, sd, sdf, smi, smiles, stl, svg, sy2, tdd, text, therm, tmol, txt, txyz, unixyz, VASP, vmol, xed, xyz, yob, zin."
   ]
  },
  {
   "cell_type": "markdown",
   "metadata": {},
   "source": [
    "### I / O Arguments"
   ]
  },
  {
   "cell_type": "markdown",
   "metadata": {},
   "source": [
    "Syntax: input_argument (datatype) : Definition\n",
    "\n",
    "Config input / output arguments for this building block:\n",
    "\n",
    "* **input_path** (*str*): Path to the input file. File type: input. [Sample file](https://github.com/bioexcel/biobb_chemistry/raw/master/biobb_chemistry/test/data/babel/babel.no.H.pdb). Accepted formats: abinit, acesout, acr, adfout, alc, aoforce, arc, axsf, bgf, box, bs, c09out, c3d2, caccrt, can, car, castep, ccc, cdjson, cdx, cdxml, cif, ck, cml, cmlr, CONFIG, CONTCAR, CONTFF, crk2d, crk3d, ct, cub, cube, dallog, dalmol, dat, dmol, dx, ent, exyz, fa, fasta, fch, fchk, fck, feat, fhiaims, fract, fs, fsa, g03, g09, g92, g94, g98, gal, gam, gamess, gamin, gamout, got, gpr, gro, gukin, gukout, gzmat, hin, HISTORY, inchi, inp, ins, jin, jout, log, lpmd, mcdl, mcif, MDFF, mdl, ml2, mmcif, mmd, mmod, mol, mol2, mold, molden, molf, moo, mop, mopcrt, mopin, mopout, mpc, mpo, mpqc, mrv, msi, nwo, orca, out, outmol, output, pc, pcjson, pcm, pdb, pdbqt, png, pos, POSCAR, POSFF, pqr, pqs, prep, pwscf, qcout, res, rsmi, rxn, sd, sdf, siesta, smi, smiles, smy, sy2, t41, tdd, text, therm, tmol, txt, txyz, unixyz, VASP, vmol, xml, xsf, xtc, xyz, yob.\n",
    "* **output_path** (*str*): Path to the output file. File type: output. [Sample file](https://github.com/bioexcel/biobb_chemistry/raw/master/biobb_chemistry/test/reference/babel/ref_babel.hydrogens.pdb). Accepted formats: acesin, adf, alc, ascii, bgf, box, bs, c3d1, c3d2, cac, caccrt, cache, cacint, can, cdjson, cdxml, cht, cif, ck, cml, cmlr, com, confabreport, CONFIG, CONTCAR, CONTFF, copy, crk2d, crk3d, csr, cssr, ct, cub, cube, dalmol, dmol, dx, ent, exyz, fa, fasta, feat, fh, fhiaims, fix, fps, fpt, fract, fs, fsa, gamin, gau, gjc, gjf, gpr, gr96, gro, gukin, gukout, gzmat, hin, inchi, inchikey, inp, jin, k, lmpdat, lpmd, mcdl, mcif, MDFF, mdl, ml2, mmcif, mmd, mmod, mna, mol, mol2, mold, molden, molf, molreport, mop, mopcrt, mopin, mp, mpc, mpd, mpqcin, mrv, msms, nul, nw, orcainp, outmol, paint, pcjson, pcm, pdb, pdbqt, png, pointcloud, POSCAR, POSFF, pov, pqr, pqs, qcin, report, rsmi, rxn, sd, sdf, smi, smiles, stl, svg, sy2, tdd, text, therm, tmol, txt, txyz, unixyz, VASP, vmol, xed, xyz, yob, zin."
   ]
  },
  {
   "cell_type": "markdown",
   "metadata": {},
   "source": [
    "### Config"
   ]
  },
  {
   "cell_type": "markdown",
   "metadata": {},
   "source": [
    "Syntax: input_parameter (datatype) - (default_value) Definition\n",
    "\n",
    "Config parameters for this building block:\n",
    "\n",
    "* **input_format** (*str*) - (None) Format of input file. If not provided, file extension will be taken. Values: abinit, acesout, acr, adfout, alc, aoforce, arc, axsf, bgf, box, bs, c09out, c3d2, caccrt, can, car, castep, ccc, cdjson, cdx, cdxml, cif, ck, cml, cmlr, CONFIG, CONTCAR, CONTFF, crk2d, crk3d, ct, cub, cube, dallog, dalmol, dat, dmol, dx, ent, exyz, fa, fasta, fch, fchk, fck, feat, fhiaims, fract, fs, fsa, g03, g09, g92, g94, g98, gal, gam, gamess, gamin, gamout, got, gpr, gro, gukin, gukout, gzmat, hin, HISTORY, inchi, inp, ins, jin, jout, log, lpmd, mcdl, mcif, MDFF, mdl, ml2, mmcif, mmd, mmod, mol, mol2, mold, molden, molf, moo, mop, mopcrt, mopin, mopout, mpc, mpo, mpqc, mrv, msi, nwo, orca, out, outmol, output, pc, pcjson, pcm, pdb, pdbqt, png, pos, POSCAR, POSFF, pqr, pqs, prep, pwscf, qcout, res, rsmi, rxn, sd, sdf, siesta, smi, smiles, smy, sy2, t41, tdd, text, therm, tmol, txt, txyz, unixyz, VASP, vmol, xml, xsf, xtc, xyz, yob.\n",
    "* **output_format** (*str*) - (None) Format of output file. If not provided, file extension will be taken. Values: acesin, adf, alc, ascii, bgf, box, bs, c3d1, c3d2, cac, caccrt, cache, cacint, can, cdjson, cdxml, cht, cif, ck, cml, cmlr, com, confabreport, CONFIG, CONTCAR, CONTFF, copy, crk2d, crk3d, csr, cssr, ct, cub, cube, dalmol, dmol, dx, ent, exyz, fa, fasta, feat, fh, fhiaims, fix, fps, fpt, fract, fs, fsa, gamin, gau, gjc, gjf, gpr, gr96, gro, gukin, gukout, gzmat, hin, inchi, inchikey, inp, jin, k, lmpdat, lpmd, mcdl, mcif, MDFF, mdl, ml2, mmcif, mmd, mmod, mna, mol, mol2, mold, molden, molf, molreport, mop, mopcrt, mopin, mp, mpc, mpd, mpqcin, mrv, msms, nul, nw, orcainp, outmol, paint, pcjson, pcm, pdb, pdbqt, png, pointcloud, POSCAR, POSFF, pov, pqr, pqs, qcin, report, rsmi, rxn, sd, sdf, smi, smiles, stl, svg, sy2, tdd, text, therm, tmol, txt, txyz, unixyz, VASP, vmol, xed, xyz, yob, zin.\n",
    "* **coordinates** (*int*) - (None) Type of coordinates: 2D or 3D. Values: 2, 3.\n",
    "* **ph** (*float*) - (None) Add hydrogens appropriate for pH.\n",
    "* **obabel_path** (*str*) - (\"obabel\") Path to the obabel executable binary.\n",
    "* **remove_tmp** (*bool*) - (True) [WF property] Remove temporal files.\n",
    "* **restart** (*bool*) - (False) [WF property] Do not execute if output files exist.\n",
    "* **container_path** (*string*) - (None) Container path definition.\n",
    "* **container_image** (*string*) - ('informaticsmatters/obabel:latest') Container image definition.\n",
    "* **container_volume_path** (*string*) - ('/tmp') Container volume path definition.\n",
    "* **container_working_dir** (*string*) - (None) Container working directory definition.\n",
    "* **container_user_id** (*string*) - (None) Container user_id definition.\n",
    "* **container_shell_path** (*string*) - ('/bin/bash') Path to default shell inside the container."
   ]
  },
  {
   "cell_type": "markdown",
   "metadata": {},
   "source": [
    "### YAML"
   ]
  },
  {
   "cell_type": "markdown",
   "metadata": {},
   "source": [
    "#### Common file config"
   ]
  },
  {
   "cell_type": "code",
   "execution_count": null,
   "metadata": {},
   "outputs": [],
   "source": [
    "properties:\n",
    "  input_format: pdb\n",
    "  output_format: pdb\n",
    "  coordinates: 3\n",
    "  ph: 7.4"
   ]
  },
  {
   "cell_type": "markdown",
   "metadata": {},
   "source": [
    "#### Docker file config"
   ]
  },
  {
   "cell_type": "code",
   "execution_count": null,
   "metadata": {},
   "outputs": [],
   "source": [
    "properties:\n",
    "  input_format: pdb\n",
    "  output_format: pdb\n",
    "  coordinates: 3\n",
    "  ph: 7.4\n",
    "  container_path: docker\n",
    "  container_image: informaticsmatters/obabel:latest\n",
    "  container_volume_path: /tmp"
   ]
  },
  {
   "cell_type": "markdown",
   "metadata": {},
   "source": [
    "#### Singularity file config"
   ]
  },
  {
   "cell_type": "code",
   "execution_count": null,
   "metadata": {},
   "outputs": [],
   "source": [
    "properties:\n",
    "  input_format: pdb\n",
    "  output_format: pdb\n",
    "  coordinates: 3\n",
    "  ph: 7.4\n",
    "  container_path: singularity\n",
    "  container_image: shub://bioexcel/obabel_singularity\n",
    "  container_volume_path: /tmp"
   ]
  },
  {
   "cell_type": "markdown",
   "metadata": {},
   "source": [
    "#### Command line"
   ]
  },
  {
   "cell_type": "code",
   "execution_count": null,
   "metadata": {},
   "outputs": [],
   "source": [
    "babel_add_hydrogens --config data/conf/add_hydrogens.yml --input_path data/input/babel.no.H.pdb --output_path data/output/output.add.H.pdb"
   ]
  },
  {
   "cell_type": "markdown",
   "metadata": {},
   "source": [
    "### JSON"
   ]
  },
  {
   "cell_type": "markdown",
   "metadata": {},
   "source": [
    "#### Common file config"
   ]
  },
  {
   "cell_type": "code",
   "execution_count": null,
   "metadata": {},
   "outputs": [],
   "source": [
    "{\n",
    "  \"properties\": {\n",
    "    \"input_format\": \"pdb\",\n",
    "    \"output_format\": \"pdb\",\n",
    "    \"coordinates\": 3,\n",
    "    \"ph\": 7.4\n",
    "  }\n",
    "}"
   ]
  },
  {
   "cell_type": "markdown",
   "metadata": {},
   "source": [
    "#### Docker file config"
   ]
  },
  {
   "cell_type": "code",
   "execution_count": null,
   "metadata": {},
   "outputs": [],
   "source": [
    "{\n",
    "  \"properties\": {\n",
    "    \"input_format\": \"pdb\",\n",
    "    \"output_format\": \"pdb\",\n",
    "    \"coordinates\": 3,\n",
    "    \"ph\": 7.4,\n",
    "    \"container_path\": \"docker\"\n",
    "    \"container_image\": \"informaticsmatters/obabel:latest\"\n",
    "    \"container_volume_path\": \"/tmp\"\n",
    "  }\n",
    "}"
   ]
  },
  {
   "cell_type": "markdown",
   "metadata": {},
   "source": [
    "#### Singularity file config"
   ]
  },
  {
   "cell_type": "code",
   "execution_count": null,
   "metadata": {},
   "outputs": [],
   "source": [
    "{\n",
    "  \"properties\": {\n",
    "    \"input_format\": \"pdb\",\n",
    "    \"output_format\": \"pdb\",\n",
    "    \"coordinates\": 3,\n",
    "    \"ph\": 7.4,\n",
    "    \"container_path\": \"singularity\"\n",
    "    \"container_image\": \"shub://bioexcel/obabel_singularity\"\n",
    "    \"container_volume_path\": \"/tmp\"\n",
    "  }\n",
    "}"
   ]
  },
  {
   "cell_type": "markdown",
   "metadata": {},
   "source": [
    "#### Command line"
   ]
  },
  {
   "cell_type": "code",
   "execution_count": null,
   "metadata": {},
   "outputs": [],
   "source": [
    "babel_add_hydrogens --config data/conf/add_hydrogens.json --input_path data/input/babel.no.H.pdb --output_path data/output/output.add.H.pdb"
   ]
  },
  {
   "cell_type": "markdown",
   "metadata": {},
   "source": [
    "## Babel convert"
   ]
  },
  {
   "cell_type": "markdown",
   "metadata": {},
   "source": [
    "Small molecule format conversion."
   ]
  },
  {
   "cell_type": "markdown",
   "metadata": {},
   "source": [
    "### Get help"
   ]
  },
  {
   "cell_type": "markdown",
   "metadata": {},
   "source": [
    "Command:"
   ]
  },
  {
   "cell_type": "code",
   "execution_count": null,
   "metadata": {},
   "outputs": [],
   "source": [
    "babel_convert -h"
   ]
  },
  {
   "cell_type": "code",
   "execution_count": null,
   "metadata": {},
   "outputs": [],
   "source": [
    "usage: babel_convert [-h] [--config CONFIG] --input_path INPUT_PATH --output_path OUTPUT_PATH\n",
    "\n",
    "Small molecule format conversion.\n",
    "\n",
    "optional arguments:\n",
    "  -h, --help            show this help message and exit\n",
    "  --config CONFIG       Configuration file\n",
    "\n",
    "required arguments:\n",
    "  --input_path INPUT_PATH\n",
    "                        Path to the input file. Accepted formats: abinit, acesout, acr, adfout, alc, aoforce, arc, axsf, bgf, box, bs, c09out, c3d2, caccrt, can, car, castep, ccc, cdjson, cdx, cdxml, cif, ck, cml, cmlr, CONFIG, CONTCAR, CONTFF, crk2d, crk3d, ct, cub, cube, dallog, dalmol, dat, dmol, dx, ent, exyz, fa, fasta, fch, fchk, fck, feat, fhiaims, fract, fs, fsa, g03, g09, g92, g94, g98, gal, gam, gamess, gamin, gamout, got, gpr, gro, gukin, gukout, gzmat, hin, HISTORY, inchi, inp, ins, jin, jout, log, lpmd, mcdl, mcif, MDFF, mdl, ml2, mmcif, mmd, mmod, mol, mol2, mold, molden, molf, moo, mop, mopcrt, mopin, mopout, mpc, mpo, mpqc, mrv, msi, nwo, orca, out, outmol, output, pc, pcjson, pcm, pdb, pdbqt, png, pos, POSCAR, POSFF, pqr, pqs, prep, pwscf, qcout, res, rsmi, rxn, sd, sdf, siesta, smi, smiles, smy, sy2, t41, tdd, text, therm, tmol, txt, txyz, unixyz, VASP, vmol, xml, xsf, xtc, xyz, yob.\n",
    "  --output_path OUTPUT_PATH\n",
    "                        Path to the output file. Accepted formats: acesin, adf, alc, ascii, bgf, box, bs, c3d1, c3d2, cac, caccrt, cache, cacint, can, cdjson, cdxml, cht, cif, ck, cml, cmlr, com, confabreport, CONFIG, CONTCAR, CONTFF, copy, crk2d, crk3d, csr, cssr, ct, cub, cube, dalmol, dmol, dx, ent, exyz, fa, fasta, feat, fh, fhiaims, fix, fps, fpt, fract, fs, fsa, gamin, gau, gjc, gjf, gpr, gr96, gro, gukin, gukout, gzmat, hin, inchi, inchikey, inp, jin, k, lmpdat, lpmd, mcdl, mcif, MDFF, mdl, ml2, mmcif, mmd, mmod, mna, mol, mol2, mold, molden, molf, molreport, mop, mopcrt, mopin, mp, mpc, mpd, mpqcin, mrv, msms, nul, nw, orcainp, outmol, paint, pcjson, pcm, pdb, pdbqt, png, pointcloud, POSCAR, POSFF, pov, pqr, pqs, qcin, report, rsmi, rxn, sd, sdf, smi, smiles, stl, svg, sy2, tdd, text, therm, tmol, txt, txyz, unixyz, VASP, vmol, xed, xyz, yob, zin."
   ]
  },
  {
   "cell_type": "markdown",
   "metadata": {},
   "source": [
    "### I / O Arguments"
   ]
  },
  {
   "cell_type": "markdown",
   "metadata": {},
   "source": [
    "Syntax: input_argument (datatype) : Definition\n",
    "\n",
    "Config input / output arguments for this building block:\n",
    "\n",
    "* **input_path** (*str*): Path to the input file. File type: input. [Sample file](https://github.com/bioexcel/biobb_chemistry/raw/master/biobb_chemistry/test/data/babel/babel.smi). Accepted formats: abinit, acesout, acr, adfout, alc, aoforce, arc, axsf, bgf, box, bs, c09out, c3d2, caccrt, can, car, castep, ccc, cdjson, cdx, cdxml, cif, ck, cml, cmlr, CONFIG, CONTCAR, CONTFF, crk2d, crk3d, ct, cub, cube, dallog, dalmol, dat, dmol, dx, ent, exyz, fa, fasta, fch, fchk, fck, feat, fhiaims, fract, fs, fsa, g03, g09, g92, g94, g98, gal, gam, gamess, gamin, gamout, got, gpr, gro, gukin, gukout, gzmat, hin, HISTORY, inchi, inp, ins, jin, jout, log, lpmd, mcdl, mcif, MDFF, mdl, ml2, mmcif, mmd, mmod, mol, mol2, mold, molden, molf, moo, mop, mopcrt, mopin, mopout, mpc, mpo, mpqc, mrv, msi, nwo, orca, out, outmol, output, pc, pcjson, pcm, pdb, pdbqt, png, pos, POSCAR, POSFF, pqr, pqs, prep, pwscf, qcout, res, rsmi, rxn, sd, sdf, siesta, smi, smiles, smy, sy2, t41, tdd, text, therm, tmol, txt, txyz, unixyz, VASP, vmol, xml, xsf, xtc, xyz, yob.\n",
    "* **output_path** (*str*): Path to the output file. File type: output. [Sample file](https://github.com/bioexcel/biobb_chemistry/raw/master/biobb_chemistry/test/reference/babel/ref_babel.convert.mol2). Accepted formats: acesin, adf, alc, ascii, bgf, box, bs, c3d1, c3d2, cac, caccrt, cache, cacint, can, cdjson, cdxml, cht, cif, ck, cml, cmlr, com, confabreport, CONFIG, CONTCAR, CONTFF, copy, crk2d, crk3d, csr, cssr, ct, cub, cube, dalmol, dmol, dx, ent, exyz, fa, fasta, feat, fh, fhiaims, fix, fps, fpt, fract, fs, fsa, gamin, gau, gjc, gjf, gpr, gr96, gro, gukin, gukout, gzmat, hin, inchi, inchikey, inp, jin, k, lmpdat, lpmd, mcdl, mcif, MDFF, mdl, ml2, mmcif, mmd, mmod, mna, mol, mol2, mold, molden, molf, molreport, mop, mopcrt, mopin, mp, mpc, mpd, mpqcin, mrv, msms, nul, nw, orcainp, outmol, paint, pcjson, pcm, pdb, pdbqt, png, pointcloud, POSCAR, POSFF, pov, pqr, pqs, qcin, report, rsmi, rxn, sd, sdf, smi, smiles, stl, svg, sy2, tdd, text, therm, tmol, txt, txyz, unixyz, VASP, vmol, xed, xyz, yob, zin."
   ]
  },
  {
   "cell_type": "markdown",
   "metadata": {},
   "source": [
    "### Config"
   ]
  },
  {
   "cell_type": "markdown",
   "metadata": {},
   "source": [
    "Syntax: input_parameter (datatype) - (default_value) Definition\n",
    "\n",
    "Config parameters for this building block:\n",
    "\n",
    "* **input_format** (*str*) - (None) Format of input file. If not provided, file extension will be taken. Values: abinit, acesout, acr, adfout, alc, aoforce, arc, axsf, bgf, box, bs, c09out, c3d2, caccrt, can, car, castep, ccc, cdjson, cdx, cdxml, cif, ck, cml, cmlr, CONFIG, CONTCAR, CONTFF, crk2d, crk3d, ct, cub, cube, dallog, dalmol, dat, dmol, dx, ent, exyz, fa, fasta, fch, fchk, fck, feat, fhiaims, fract, fs, fsa, g03, g09, g92, g94, g98, gal, gam, gamess, gamin, gamout, got, gpr, gro, gukin, gukout, gzmat, hin, HISTORY, inchi, inp, ins, jin, jout, log, lpmd, mcdl, mcif, MDFF, mdl, ml2, mmcif, mmd, mmod, mol, mol2, mold, molden, molf, moo, mop, mopcrt, mopin, mopout, mpc, mpo, mpqc, mrv, msi, nwo, orca, out, outmol, output, pc, pcjson, pcm, pdb, pdbqt, png, pos, POSCAR, POSFF, pqr, pqs, prep, pwscf, qcout, res, rsmi, rxn, sd, sdf, siesta, smi, smiles, smy, sy2, t41, tdd, text, therm, tmol, txt, txyz, unixyz, VASP, vmol, xml, xsf, xtc, xyz, yob.\n",
    "* **output_format** (*str*) - (None) Format of output file. If not provided, file extension will be taken. Values: acesin, adf, alc, ascii, bgf, box, bs, c3d1, c3d2, cac, caccrt, cache, cacint, can, cdjson, cdxml, cht, cif, ck, cml, cmlr, com, confabreport, CONFIG, CONTCAR, CONTFF, copy, crk2d, crk3d, csr, cssr, ct, cub, cube, dalmol, dmol, dx, ent, exyz, fa, fasta, feat, fh, fhiaims, fix, fps, fpt, fract, fs, fsa, gamin, gau, gjc, gjf, gpr, gr96, gro, gukin, gukout, gzmat, hin, inchi, inchikey, inp, jin, k, lmpdat, lpmd, mcdl, mcif, MDFF, mdl, ml2, mmcif, mmd, mmod, mna, mol, mol2, mold, molden, molf, molreport, mop, mopcrt, mopin, mp, mpc, mpd, mpqcin, mrv, msms, nul, nw, orcainp, outmol, paint, pcjson, pcm, pdb, pdbqt, png, pointcloud, POSCAR, POSFF, pov, pqr, pqs, qcin, report, rsmi, rxn, sd, sdf, smi, smiles, stl, svg, sy2, tdd, text, therm, tmol, txt, txyz, unixyz, VASP, vmol, xed, xyz, yob, zin.\n",
    "* **coordinates** (*int*) - (None) Type of coordinates: 2D or 3D. Values: 2, 3.\n",
    "* **ph** (*float*) - (None) Add hydrogens appropriate for pH.\n",
    "* **obabel_path** (*str*) - (\"obabel\") Path to the obabel executable binary.\n",
    "* **remove_tmp** (*bool*) - (True) [WF property] Remove temporal files.\n",
    "* **restart** (*bool*) - (False) [WF property] Do not execute if output files exist.\n",
    "* **container_path** (*string*) - (None) Container path definition.\n",
    "* **container_image** (*string*) - ('informaticsmatters/obabel:latest') Container image definition.\n",
    "* **container_volume_path** (*string*) - ('/tmp') Container volume path definition.\n",
    "* **container_working_dir** (*string*) - (None) Container working directory definition.\n",
    "* **container_user_id** (*string*) - (None) Container user_id definition.\n",
    "* **container_shell_path** (*string*) - ('/bin/bash') Path to default shell inside the container."
   ]
  },
  {
   "cell_type": "markdown",
   "metadata": {},
   "source": [
    "### YAML"
   ]
  },
  {
   "cell_type": "markdown",
   "metadata": {},
   "source": [
    "#### Common file config"
   ]
  },
  {
   "cell_type": "code",
   "execution_count": null,
   "metadata": {},
   "outputs": [],
   "source": [
    "properties:\n",
    "  input_format: smi\n",
    "  output_format: pdb\n",
    "  coordinates: 2\n",
    "  ph: 7.4"
   ]
  },
  {
   "cell_type": "markdown",
   "metadata": {},
   "source": [
    "#### Docker file config"
   ]
  },
  {
   "cell_type": "code",
   "execution_count": null,
   "metadata": {},
   "outputs": [],
   "source": [
    "properties:\n",
    "  input_format: smi\n",
    "  output_format: pdb\n",
    "  coordinates: 2\n",
    "  ph: 7.4\n",
    "  container_path: docker\n",
    "  container_image: informaticsmatters/obabel:latest\n",
    "  container_volume_path: /tmp"
   ]
  },
  {
   "cell_type": "markdown",
   "metadata": {},
   "source": [
    "#### Singularity file config"
   ]
  },
  {
   "cell_type": "code",
   "execution_count": null,
   "metadata": {},
   "outputs": [],
   "source": [
    "properties:\n",
    "  input_format: smi\n",
    "  output_format: pdb\n",
    "  coordinates: 2\n",
    "  ph: 7.4\n",
    "  container_path: singularity\n",
    "  container_image: shub://bioexcel/obabel_singularity\n",
    "  container_volume_path: /tmp"
   ]
  },
  {
   "cell_type": "markdown",
   "metadata": {},
   "source": [
    "#### Command line"
   ]
  },
  {
   "cell_type": "code",
   "execution_count": null,
   "metadata": {},
   "outputs": [],
   "source": [
    "babel_convert --config data/conf/convert.yml --input_path data/input/babel.smi --output_path data/output/output.convert.pdb"
   ]
  },
  {
   "cell_type": "markdown",
   "metadata": {},
   "source": [
    "### JSON"
   ]
  },
  {
   "cell_type": "markdown",
   "metadata": {},
   "source": [
    "#### Common  file config"
   ]
  },
  {
   "cell_type": "code",
   "execution_count": null,
   "metadata": {},
   "outputs": [],
   "source": [
    "{\n",
    "  \"properties\": {\n",
    "    \"input_format\": \"smi\",\n",
    "    \"output_format\": \"pdb\",\n",
    "    \"coordinates\": 2,\n",
    "    \"ph\": 7.4\n",
    "  }\n",
    "}"
   ]
  },
  {
   "cell_type": "markdown",
   "metadata": {},
   "source": [
    "#### Docker  file config"
   ]
  },
  {
   "cell_type": "code",
   "execution_count": null,
   "metadata": {},
   "outputs": [],
   "source": [
    "{\n",
    "  \"properties\": {\n",
    "    \"input_format\": \"smi\",\n",
    "    \"output_format\": \"pdb\",\n",
    "    \"coordinates\": 2,\n",
    "    \"ph\": 7.4,\n",
    "    \"container_path\": \"docker\"\n",
    "    \"container_image\": \"informaticsmatters/obabel:latest\"\n",
    "    \"container_volume_path\": \"/tmp\"\n",
    "  }\n",
    "}"
   ]
  },
  {
   "cell_type": "markdown",
   "metadata": {},
   "source": [
    "#### Singularity  file config"
   ]
  },
  {
   "cell_type": "code",
   "execution_count": null,
   "metadata": {},
   "outputs": [],
   "source": [
    "{\n",
    "  \"properties\": {\n",
    "    \"input_format\": \"smi\",\n",
    "    \"output_format\": \"pdb\",\n",
    "    \"coordinates\": 2,\n",
    "    \"ph\": 7.4,\n",
    "    \"container_path\": \"singularity\"\n",
    "    \"container_image\": \"shub://bioexcel/obabel_singularity\"\n",
    "    \"container_volume_path\": \"/tmp\"\n",
    "  }\n",
    "}"
   ]
  },
  {
   "cell_type": "markdown",
   "metadata": {},
   "source": [
    "#### Command line"
   ]
  },
  {
   "cell_type": "code",
   "execution_count": null,
   "metadata": {},
   "outputs": [],
   "source": [
    "babel_convert --config data/conf/convert.json --input_path data/input/babel.smi --output_path data/output/output.convert.pdb"
   ]
  },
  {
   "cell_type": "markdown",
   "metadata": {},
   "source": [
    "## Babel minimize"
   ]
  },
  {
   "cell_type": "markdown",
   "metadata": {},
   "source": [
    "Energetically minimize small molecules."
   ]
  },
  {
   "cell_type": "markdown",
   "metadata": {},
   "source": [
    "### Get help"
   ]
  },
  {
   "cell_type": "markdown",
   "metadata": {},
   "source": [
    "Command:"
   ]
  },
  {
   "cell_type": "code",
   "execution_count": null,
   "metadata": {},
   "outputs": [],
   "source": [
    "babel_minimize -h"
   ]
  },
  {
   "cell_type": "code",
   "execution_count": null,
   "metadata": {},
   "outputs": [],
   "source": [
    "usage: babel_minimize [-h] [--config CONFIG] --input_path INPUT_PATH --output_path OUTPUT_PATH\n",
    "\n",
    "Energetically minimize small molecules.\n",
    "\n",
    "optional arguments:\n",
    "  -h, --help            show this help message and exit\n",
    "  --config CONFIG       Configuration file\n",
    "\n",
    "required arguments:\n",
    "  --input_path INPUT_PATH\n",
    "                        Path to the input file. Accepted formats: pdb, mol2.\n",
    "  --output_path OUTPUT_PATH\n",
    "                        Path to the output file. Accepted formats: pdb, mol2."
   ]
  },
  {
   "cell_type": "markdown",
   "metadata": {},
   "source": [
    "### I / O Arguments"
   ]
  },
  {
   "cell_type": "markdown",
   "metadata": {},
   "source": [
    "Syntax: input_argument (datatype) : Definition\n",
    "\n",
    "Config input / output arguments for this building block:\n",
    "\n",
    "* **input_path** (*str*): Path to the input file. File type: input. [Sample file](https://github.com/bioexcel/biobb_chemistry/raw/master/biobb_chemistry/test/data/babel/babel.minimize.pdb). Accepted formats: pdb, mol2.\n",
    "* **output_path** (*str*): Path to the output file. File type: output. [Sample file](https://github.com/bioexcel/biobb_chemistry/raw/master/biobb_chemistry/test/reference/babel/ref_babel.minimize.pdb). Accepted formats: pdb, mol2."
   ]
  },
  {
   "cell_type": "markdown",
   "metadata": {},
   "source": [
    "### Config"
   ]
  },
  {
   "cell_type": "markdown",
   "metadata": {},
   "source": [
    "Syntax: input_parameter (datatype) - (default_value) Definition\n",
    "\n",
    "Config parameters for this building block:\n",
    "\n",
    "* **criteria** (*float*) - (1e-6) Convergence criteria\n",
    "* **method** (*str*) - (\"cg\") Method. Values: cg (conjugate gradients algorithm), sd (steepest descent algorithm).\n",
    "* **force_field** (*str*) - (None) Force field. Values: GAFF (General Amber Force Field), Ghemical (Ghemical force field), MMFF94 (MMFF94 force field), MMFF94s (MMFF94s force field), UFF (Universal Force Field).\n",
    "* **hydrogens** (*bool*) - (False) Add hydrogen atoms.\n",
    "* **steps** (*int*) - (2500) Maximum number of steps.\n",
    "* **cutoff** (*bool*) - (False) Use cut-off.\n",
    "* **rvdw** (*float*) - (6.0) VDW cut-off distance.\n",
    "* **rele** (*float*) - (10.0) Electrostatic cut-off distance.\n",
    "* **frequency** (*int*) - (10) Frequency to update the non-bonded pairs.\n",
    "* **obminimize_path** (*str*) - (\"obminimize\") Path to the obminimize executable binary.\n",
    "* **remove_tmp** (*bool*) - (True) [WF property] Remove temporal files.\n",
    "* **restart** (*bool*) - (False) [WF property] Do not execute if output files exist.\n",
    "* **container_path** (*string*) - (None) Container path definition.\n",
    "* **container_image** (*string*) - ('informaticsmatters/obabel:latest') Container image definition.\n",
    "* **container_volume_path** (*string*) - ('/tmp') Container volume path definition.\n",
    "* **container_working_dir** (*string*) - (None) Container working directory definition.\n",
    "* **container_user_id** (*string*) - (None) Container user_id definition.\n",
    "* **container_shell_path** (*string*) - ('/bin/bash') Path to default shell inside the container."
   ]
  },
  {
   "cell_type": "markdown",
   "metadata": {},
   "source": [
    "### YAML"
   ]
  },
  {
   "cell_type": "markdown",
   "metadata": {},
   "source": [
    "#### Common file config"
   ]
  },
  {
   "cell_type": "code",
   "execution_count": null,
   "metadata": {},
   "outputs": [],
   "source": [
    "properties:\n",
    "  criteria: 1e-6\n",
    "  method: cg\n",
    "  force_field: GAFF\n",
    "  hydrogens: True\n",
    "  steps: 2500\n",
    "  cutoff: True\n",
    "  rvdw: 6.0\n",
    "  rele: 10.0\n",
    "  frequency: 10"
   ]
  },
  {
   "cell_type": "markdown",
   "metadata": {},
   "source": [
    "#### Docker file config"
   ]
  },
  {
   "cell_type": "code",
   "execution_count": null,
   "metadata": {},
   "outputs": [],
   "source": [
    "properties:\n",
    "  criteria: 1e-6\n",
    "  method: cg\n",
    "  force_field: GAFF\n",
    "  hydrogens: True\n",
    "  steps: 2500\n",
    "  cutoff: True\n",
    "  rvdw: 6.0\n",
    "  rele: 10.0\n",
    "  frequency: 10\n",
    "  container_path: docker\n",
    "  container_image: informaticsmatters/obabel:latest\n",
    "  container_volume_path: /tmp"
   ]
  },
  {
   "cell_type": "markdown",
   "metadata": {},
   "source": [
    "#### Singularity file config"
   ]
  },
  {
   "cell_type": "code",
   "execution_count": null,
   "metadata": {},
   "outputs": [],
   "source": [
    "properties:\n",
    "  criteria: 1e-6\n",
    "  method: cg\n",
    "  force_field: GAFF\n",
    "  hydrogens: True\n",
    "  steps: 2500\n",
    "  cutoff: True\n",
    "  rvdw: 6.0\n",
    "  rele: 10.0\n",
    "  frequency: 10\n",
    "  container_path: singularity\n",
    "  container_image: shub://bioexcel/obabel_singularity\n",
    "  container_volume_path: /tmp"
   ]
  },
  {
   "cell_type": "markdown",
   "metadata": {},
   "source": [
    "#### Command line"
   ]
  },
  {
   "cell_type": "code",
   "execution_count": null,
   "metadata": {},
   "outputs": [],
   "source": [
    "babel_minimize --config data/conf/minimize.yml --input_path data/input/babel.minimize.pdb --output_path data/output/output.minimize.pdb"
   ]
  },
  {
   "cell_type": "markdown",
   "metadata": {},
   "source": [
    "### JSON"
   ]
  },
  {
   "cell_type": "markdown",
   "metadata": {},
   "source": [
    "#### Common file config"
   ]
  },
  {
   "cell_type": "code",
   "execution_count": null,
   "metadata": {},
   "outputs": [],
   "source": [
    "{\n",
    "  \"properties\": {\n",
    "    \"criteria\": 1e-6,\n",
    "    \"method\": \"cg\",\n",
    "    \"force_field\": \"GAFF\",\n",
    "    \"hydrogens\": true,\n",
    "    \"steps\": 2500,\n",
    "    \"cutoff\": true,\n",
    "    \"rvdw\": 6.0,\n",
    "    \"rele\": 10.0,\n",
    "    \"frequency\": 10\n",
    "  }\n",
    "}"
   ]
  },
  {
   "cell_type": "markdown",
   "metadata": {},
   "source": [
    "#### Docker file config"
   ]
  },
  {
   "cell_type": "code",
   "execution_count": null,
   "metadata": {},
   "outputs": [],
   "source": [
    "{\n",
    "  \"properties\": {\n",
    "    \"criteria\": 1e-6,\n",
    "    \"method\": \"cg\",\n",
    "    \"force_field\": \"GAFF\",\n",
    "    \"hydrogens\": true,\n",
    "    \"steps\": 2500,\n",
    "    \"cutoff\": true,\n",
    "    \"rvdw\": 6.0,\n",
    "    \"rele\": 10.0,\n",
    "    \"frequency\": 10,\n",
    "    \"container_path\": \"docker\"\n",
    "    \"container_image\": \"informaticsmatters/obabel:latest\"\n",
    "    \"container_volume_path\": \"/tmp\"\n",
    "  }\n",
    "}"
   ]
  },
  {
   "cell_type": "markdown",
   "metadata": {},
   "source": [
    "#### Singularity file config"
   ]
  },
  {
   "cell_type": "code",
   "execution_count": null,
   "metadata": {},
   "outputs": [],
   "source": [
    "{\n",
    "  \"properties\": {\n",
    "    \"criteria\": 1e-6,\n",
    "    \"method\": \"cg\",\n",
    "    \"force_field\": \"GAFF\",\n",
    "    \"hydrogens\": true,\n",
    "    \"steps\": 2500,\n",
    "    \"cutoff\": true,\n",
    "    \"rvdw\": 6.0,\n",
    "    \"rele\": 10.0,\n",
    "    \"frequency\": 10,\n",
    "    \"container_path\": \"singularity\"\n",
    "    \"container_image\": \"shub://bioexcel/obabel_singularity\"\n",
    "    \"container_volume_path\": \"/tmp\"\n",
    "  }\n",
    "}"
   ]
  },
  {
   "cell_type": "markdown",
   "metadata": {},
   "source": [
    "#### Command line"
   ]
  },
  {
   "cell_type": "code",
   "execution_count": null,
   "metadata": {},
   "outputs": [],
   "source": [
    "babel_minimize --config data/conf/minimize.json --input_path data/input/babel.minimize.pdb --output_path data/output/output.minimize.pdb"
   ]
  },
  {
   "cell_type": "markdown",
   "metadata": {},
   "source": [
    "## Babel remove hydrogens"
   ]
  },
  {
   "cell_type": "markdown",
   "metadata": {},
   "source": [
    "Removes hydrogen atoms to small molecules."
   ]
  },
  {
   "cell_type": "markdown",
   "metadata": {},
   "source": [
    "### Get help"
   ]
  },
  {
   "cell_type": "markdown",
   "metadata": {},
   "source": [
    "Command:"
   ]
  },
  {
   "cell_type": "code",
   "execution_count": null,
   "metadata": {},
   "outputs": [],
   "source": [
    "babel_remove_hydrogens -h"
   ]
  },
  {
   "cell_type": "code",
   "execution_count": null,
   "metadata": {},
   "outputs": [],
   "source": [
    "usage: babel_remove_hydrogens [-h] [--config CONFIG] --input_path INPUT_PATH --output_path OUTPUT_PATH\n",
    "\n",
    "Removes hydrogen atoms to small molecules.\n",
    "\n",
    "optional arguments:\n",
    "  -h, --help            show this help message and exit\n",
    "  --config CONFIG       Configuration file\n",
    "\n",
    "required arguments:\n",
    "  --input_path INPUT_PATH\n",
    "                        Path to the input file. Accepted formats: abinit, acesout, acr, adfout, alc, aoforce, arc, axsf, bgf, box, bs, c09out, c3d2, caccrt, can, car, castep, ccc, cdjson, cdx, cdxml, cif, ck, cml, cmlr, CONFIG, CONTCAR, CONTFF, crk2d, crk3d, ct, cub, cube, dallog, dalmol, dat, dmol, dx, ent, exyz, fa, fasta, fch, fchk, fck, feat, fhiaims, fract, fs, fsa, g03, g09, g92, g94, g98, gal, gam, gamess, gamin, gamout, got, gpr, gro, gukin, gukout, gzmat, hin, HISTORY, inchi, inp, ins, jin, jout, log, lpmd, mcdl, mcif, MDFF, mdl, ml2, mmcif, mmd, mmod, mol, mol2, mold, molden, molf, moo, mop, mopcrt, mopin, mopout, mpc, mpo, mpqc, mrv, msi, nwo, orca, out, outmol, output, pc, pcjson, pcm, pdb, pdbqt, png, pos, POSCAR, POSFF, pqr, pqs, prep, pwscf, qcout, res, rsmi, rxn, sd, sdf, siesta, smi, smiles, smy, sy2, t41, tdd, text, therm, tmol, txt, txyz, unixyz, VASP, vmol, xml, xsf, xtc, xyz, yob.\n",
    "  --output_path OUTPUT_PATH\n",
    "                        Path to the output file. Accepted formats: acesin, adf, alc, ascii, bgf, box, bs, c3d1, c3d2, cac, caccrt, cache, cacint, can, cdjson, cdxml, cht, cif, ck, cml, cmlr, com, confabreport, CONFIG, CONTCAR, CONTFF, copy, crk2d, crk3d, csr, cssr, ct, cub, cube, dalmol, dmol, dx, ent, exyz, fa, fasta, feat, fh, fhiaims, fix, fps, fpt, fract, fs, fsa, gamin, gau, gjc, gjf, gpr, gr96, gro, gukin, gukout, gzmat, hin, inchi, inchikey, inp, jin, k, lmpdat, lpmd, mcdl, mcif, MDFF, mdl, ml2, mmcif, mmd, mmod, mna, mol, mol2, mold, molden, molf, molreport, mop, mopcrt, mopin, mp, mpc, mpd, mpqcin, mrv, msms, nul, nw, orcainp, outmol, paint, pcjson, pcm, pdb, pdbqt, png, pointcloud, POSCAR, POSFF, pov, pqr, pqs, qcin, report, rsmi, rxn, sd, sdf, smi, smiles, stl, svg, sy2, tdd, text, therm, tmol, txt, txyz, unixyz, VASP, vmol, xed, xyz, yob, zin."
   ]
  },
  {
   "cell_type": "markdown",
   "metadata": {},
   "source": [
    "### I / O Arguments"
   ]
  },
  {
   "cell_type": "markdown",
   "metadata": {},
   "source": [
    "Syntax: input_argument (datatype) : Definition\n",
    "\n",
    "Config input / output arguments for this building block:\n",
    "\n",
    "* **input_path** (*str*): Path to the input file. File type: input. [Sample file](https://github.com/bioexcel/biobb_chemistry/raw/master/biobb_chemistry/test/data/babel/babel.H.pdb). Accepted formats: abinit, acesout, acr, adfout, alc, aoforce, arc, axsf, bgf, box, bs, c09out, c3d2, caccrt, can, car, castep, ccc, cdjson, cdx, cdxml, cif, ck, cml, cmlr, CONFIG, CONTCAR, CONTFF, crk2d, crk3d, ct, cub, cube, dallog, dalmol, dat, dmol, dx, ent, exyz, fa, fasta, fch, fchk, fck, feat, fhiaims, fract, fs, fsa, g03, g09, g92, g94, g98, gal, gam, gamess, gamin, gamout, got, gpr, gro, gukin, gukout, gzmat, hin, HISTORY, inchi, inp, ins, jin, jout, log, lpmd, mcdl, mcif, MDFF, mdl, ml2, mmcif, mmd, mmod, mol, mol2, mold, molden, molf, moo, mop, mopcrt, mopin, mopout, mpc, mpo, mpqc, mrv, msi, nwo, orca, out, outmol, output, pc, pcjson, pcm, pdb, pdbqt, png, pos, POSCAR, POSFF, pqr, pqs, prep, pwscf, qcout, res, rsmi, rxn, sd, sdf, siesta, smi, smiles, smy, sy2, t41, tdd, text, therm, tmol, txt, txyz, unixyz, VASP, vmol, xml, xsf, xtc, xyz, yob.\n",
    "* **output_path** (*str*): Path to the output file. File type: output. [Sample file](https://github.com/bioexcel/biobb_chemistry/raw/master/biobb_chemistry/test/reference/babel/ref_babel.nohydrogens.pdb). Accepted formats: acesin, adf, alc, ascii, bgf, box, bs, c3d1, c3d2, cac, caccrt, cache, cacint, can, cdjson, cdxml, cht, cif, ck, cml, cmlr, com, confabreport, CONFIG, CONTCAR, CONTFF, copy, crk2d, crk3d, csr, cssr, ct, cub, cube, dalmol, dmol, dx, ent, exyz, fa, fasta, feat, fh, fhiaims, fix, fps, fpt, fract, fs, fsa, gamin, gau, gjc, gjf, gpr, gr96, gro, gukin, gukout, gzmat, hin, inchi, inchikey, inp, jin, k, lmpdat, lpmd, mcdl, mcif, MDFF, mdl, ml2, mmcif, mmd, mmod, mna, mol, mol2, mold, molden, molf, molreport, mop, mopcrt, mopin, mp, mpc, mpd, mpqcin, mrv, msms, nul, nw, orcainp, outmol, paint, pcjson, pcm, pdb, pdbqt, png, pointcloud, POSCAR, POSFF, pov, pqr, pqs, qcin, report, rsmi, rxn, sd, sdf, smi, smiles, stl, svg, sy2, tdd, text, therm, tmol, txt, txyz, unixyz, VASP, vmol, xed, xyz, yob, zin."
   ]
  },
  {
   "cell_type": "markdown",
   "metadata": {},
   "source": [
    "### Config"
   ]
  },
  {
   "cell_type": "markdown",
   "metadata": {},
   "source": [
    "Syntax: input_parameter (datatype) - (default_value) Definition\n",
    "\n",
    "Config parameters for this building block:\n",
    "\n",
    "* **input_format** (*str*) - (None) Format of input file. If not provided, file extension will be taken. Values: abinit, acesout, acr, adfout, alc, aoforce, arc, axsf, bgf, box, bs, c09out, c3d2, caccrt, can, car, castep, ccc, cdjson, cdx, cdxml, cif, ck, cml, cmlr, CONFIG, CONTCAR, CONTFF, crk2d, crk3d, ct, cub, cube, dallog, dalmol, dat, dmol, dx, ent, exyz, fa, fasta, fch, fchk, fck, feat, fhiaims, fract, fs, fsa, g03, g09, g92, g94, g98, gal, gam, gamess, gamin, gamout, got, gpr, gro, gukin, gukout, gzmat, hin, HISTORY, inchi, inp, ins, jin, jout, log, lpmd, mcdl, mcif, MDFF, mdl, ml2, mmcif, mmd, mmod, mol, mol2, mold, molden, molf, moo, mop, mopcrt, mopin, mopout, mpc, mpo, mpqc, mrv, msi, nwo, orca, out, outmol, output, pc, pcjson, pcm, pdb, pdbqt, png, pos, POSCAR, POSFF, pqr, pqs, prep, pwscf, qcout, res, rsmi, rxn, sd, sdf, siesta, smi, smiles, smy, sy2, t41, tdd, text, therm, tmol, txt, txyz, unixyz, VASP, vmol, xml, xsf, xtc, xyz, yob.\n",
    "* **output_format** (*str*) - (None) Format of output file. If not provided, file extension will be taken. Values: acesin, adf, alc, ascii, bgf, box, bs, c3d1, c3d2, cac, caccrt, cache, cacint, can, cdjson, cdxml, cht, cif, ck, cml, cmlr, com, confabreport, CONFIG, CONTCAR, CONTFF, copy, crk2d, crk3d, csr, cssr, ct, cub, cube, dalmol, dmol, dx, ent, exyz, fa, fasta, feat, fh, fhiaims, fix, fps, fpt, fract, fs, fsa, gamin, gau, gjc, gjf, gpr, gr96, gro, gukin, gukout, gzmat, hin, inchi, inchikey, inp, jin, k, lmpdat, lpmd, mcdl, mcif, MDFF, mdl, ml2, mmcif, mmd, mmod, mna, mol, mol2, mold, molden, molf, molreport, mop, mopcrt, mopin, mp, mpc, mpd, mpqcin, mrv, msms, nul, nw, orcainp, outmol, paint, pcjson, pcm, pdb, pdbqt, png, pointcloud, POSCAR, POSFF, pov, pqr, pqs, qcin, report, rsmi, rxn, sd, sdf, smi, smiles, stl, svg, sy2, tdd, text, therm, tmol, txt, txyz, unixyz, VASP, vmol, xed, xyz, yob, zin.\n",
    "* **coordinates** (*int*) - (None) Type of coordinates: 2D or 3D. Values: 2, 3.\n",
    "* **ph** (*float*) - (None) Add hydrogens appropriate for pH.\n",
    "* **obabel_path** (*str*) - (\"obabel\") Path to the obabel executable binary.\n",
    "* **remove_tmp** (*bool*) - (True) [WF property] Remove temporal files.\n",
    "* **restart** (*bool*) - (False) [WF property] Do not execute if output files exist.\n",
    "* **container_path** (*string*) - (None) Container path definition.\n",
    "* **container_image** (*string*) - ('informaticsmatters/obabel:latest') Container image definition.\n",
    "* **container_volume_path** (*string*) - ('/tmp') Container volume path definition.\n",
    "* **container_working_dir** (*string*) - (None) Container working directory definition.\n",
    "* **container_user_id** (*string*) - (None) Container user_id definition.\n",
    "* **container_shell_path** (*string*) - ('/bin/bash') Path to default shell inside the container."
   ]
  },
  {
   "cell_type": "markdown",
   "metadata": {},
   "source": [
    "### YAML"
   ]
  },
  {
   "cell_type": "markdown",
   "metadata": {},
   "source": [
    "#### Common file config"
   ]
  },
  {
   "cell_type": "code",
   "execution_count": null,
   "metadata": {},
   "outputs": [],
   "source": [
    "properties:\n",
    "  input_format: pdb\n",
    "  output_format: pdb\n",
    "  coordinates: 3\n",
    "  ph: 7.4"
   ]
  },
  {
   "cell_type": "markdown",
   "metadata": {},
   "source": [
    "#### Docker file config"
   ]
  },
  {
   "cell_type": "code",
   "execution_count": null,
   "metadata": {},
   "outputs": [],
   "source": [
    "properties:\n",
    "  input_format: pdb\n",
    "  output_format: pdb\n",
    "  coordinates: 3\n",
    "  ph: 7.4\n",
    "  container_path: docker\n",
    "  container_image: informaticsmatters/obabel:latest\n",
    "  container_volume_path: /tmp"
   ]
  },
  {
   "cell_type": "markdown",
   "metadata": {},
   "source": [
    "#### Singularity file config"
   ]
  },
  {
   "cell_type": "code",
   "execution_count": null,
   "metadata": {},
   "outputs": [],
   "source": [
    "properties:\n",
    "  input_format: pdb\n",
    "  output_format: pdb\n",
    "  coordinates: 3\n",
    "  ph: 7.4\n",
    "  container_path: singularity\n",
    "  container_image: shub://bioexcel/obabel_singularity\n",
    "  container_volume_path: /tmp"
   ]
  },
  {
   "cell_type": "markdown",
   "metadata": {},
   "source": [
    "#### Command line"
   ]
  },
  {
   "cell_type": "code",
   "execution_count": null,
   "metadata": {},
   "outputs": [],
   "source": [
    "babel_remove_hydrogens --config data/conf/remove_hydrogens.yml --input_path data/input/babel.H.pdb --output_path data/output/output.remove.H.pdb"
   ]
  },
  {
   "cell_type": "markdown",
   "metadata": {},
   "source": [
    "### JSON"
   ]
  },
  {
   "cell_type": "markdown",
   "metadata": {},
   "source": [
    "#### Common file config"
   ]
  },
  {
   "cell_type": "code",
   "execution_count": null,
   "metadata": {},
   "outputs": [],
   "source": [
    "{\n",
    "  \"properties\": {\n",
    "    \"input_format\": \"pdb\",\n",
    "    \"output_format\": \"pdb\",\n",
    "    \"coordinates\": 3,\n",
    "    \"ph\": 7.4\n",
    "  }\n",
    "}"
   ]
  },
  {
   "cell_type": "markdown",
   "metadata": {},
   "source": [
    "#### Docker file config"
   ]
  },
  {
   "cell_type": "code",
   "execution_count": null,
   "metadata": {},
   "outputs": [],
   "source": [
    "{\n",
    "  \"properties\": {\n",
    "    \"input_format\": \"pdb\",\n",
    "    \"output_format\": \"pdb\",\n",
    "    \"coordinates\": 3,\n",
    "    \"ph\": 7.4,\n",
    "    \"container_path\": \"docker\"\n",
    "    \"container_image\": \"informaticsmatters/obabel:latest\"\n",
    "    \"container_volume_path\": \"/tmp\"\n",
    "  }\n",
    "}"
   ]
  },
  {
   "cell_type": "markdown",
   "metadata": {},
   "source": [
    "#### Singularity file config"
   ]
  },
  {
   "cell_type": "code",
   "execution_count": null,
   "metadata": {},
   "outputs": [],
   "source": [
    "{\n",
    "  \"properties\": {\n",
    "    \"input_format\": \"pdb\",\n",
    "    \"output_format\": \"pdb\",\n",
    "    \"coordinates\": 3,\n",
    "    \"ph\": 7.4,\n",
    "    \"container_path\": \"singularity\"\n",
    "    \"container_image\": \"shub://bioexcel/obabel_singularity\"\n",
    "    \"container_volume_path\": \"/tmp\"\n",
    "  }\n",
    "}"
   ]
  },
  {
   "cell_type": "markdown",
   "metadata": {},
   "source": [
    "#### Command line"
   ]
  },
  {
   "cell_type": "code",
   "execution_count": null,
   "metadata": {},
   "outputs": [],
   "source": [
    "babel_remove_hydrogens --config data/conf/remove_hydrogens.json --input_path data/input/babel.H.pdb --output_path data/output/output.remove.H.pdb"
   ]
  },
  {
   "cell_type": "markdown",
   "metadata": {},
   "source": [
    "## Reduce add hydrogens"
   ]
  },
  {
   "cell_type": "markdown",
   "metadata": {},
   "source": [
    "Adds hydrogen atoms to small molecules."
   ]
  },
  {
   "cell_type": "markdown",
   "metadata": {},
   "source": [
    "### Get help"
   ]
  },
  {
   "cell_type": "markdown",
   "metadata": {},
   "source": [
    "Command:"
   ]
  },
  {
   "cell_type": "code",
   "execution_count": null,
   "metadata": {},
   "outputs": [],
   "source": [
    "reduce_add_hydrogens -h"
   ]
  },
  {
   "cell_type": "code",
   "execution_count": null,
   "metadata": {},
   "outputs": [],
   "source": [
    "usage: reduce_add_hydrogens [-h] [--config CONFIG] --input_path INPUT_PATH --output_path OUTPUT_PATH\n",
    "\n",
    "Adds hydrogen atoms to small molecules.\n",
    "\n",
    "optional arguments:\n",
    "  -h, --help            show this help message and exit\n",
    "  --config CONFIG       Configuration file\n",
    "\n",
    "required arguments:\n",
    "  --input_path INPUT_PATH\n",
    "                        Path to the input file. Accepted formats: pdb.\n",
    "  --output_path OUTPUT_PATH\n",
    "                        Path to the output file. Accepted formats: pdb."
   ]
  },
  {
   "cell_type": "markdown",
   "metadata": {},
   "source": [
    "### I / O Arguments"
   ]
  },
  {
   "cell_type": "markdown",
   "metadata": {},
   "source": [
    "Syntax: input_argument (datatype) : Definition\n",
    "\n",
    "Config input / output arguments for this building block:\n",
    "\n",
    "* **input_path** (*str*): Path to the input file. File type: input. [Sample file](https://github.com/bioexcel/biobb_chemistry/raw/master/biobb_chemistry/test/data/ambertools/reduce.no.H.pdb). Accepted formats: pdb.\n",
    "* **output_path** (*str*): Path to the output file. File type: output. [Sample file](https://github.com/bioexcel/biobb_chemistry/raw/master/biobb_chemistry/test/reference/ambertools/ref_reduce.add.pdb). Accepted formats: pdb."
   ]
  },
  {
   "cell_type": "markdown",
   "metadata": {},
   "source": [
    "### Config"
   ]
  },
  {
   "cell_type": "markdown",
   "metadata": {},
   "source": [
    "Syntax: input_parameter (datatype) - (default_value) Definition\n",
    "\n",
    "Config parameters for this building block:\n",
    "\n",
    "* **flip** (*Boolean*) - (False) add H and rotate and flip NQH groups\n",
    "* **noflip** (*Boolean*) - (False) add H and rotate groups with no NQH flips\n",
    "* **nuclear** (*Boolean*) - (False) use nuclear X-H distances rather than default electron cloud distances\n",
    "* **nooh** (*Boolean*) - (False) remove hydrogens on OH and SH groups\n",
    "* **oh** (*Boolean*) - (True) add hydrogens on OH and SH groups (default)\n",
    "* **his** (*Boolean*) - (False) create NH hydrogens on HIS rings (usually used with -HIS)\n",
    "* **noheth** (*Boolean*) - (False) do not attempt to add NH proton on Het groups\n",
    "* **rotnh3** (*Boolean*) - (True) allow lysine NH3 to rotate (default)\n",
    "* **norotnh3** (*Boolean*) - (False) do not allow lysine NH3 to rotate\n",
    "* **rotexist** (*Boolean*) - (False) allow existing rotatable groups (OH, SH, Met-CH3) to rotate\n",
    "* **rotexoh** (*Boolean*) - (False) allow existing OH & SH groups to rotate\n",
    "* **allalt** (*Boolean*) - (True) process adjustments for all conformations (default)\n",
    "* **onlya** (*Boolean*) - (False) only adjust 'A' conformations\n",
    "* **charges** (*Boolean*) - (False) output charge state for appropriate hydrogen records\n",
    "* **dorotmet** (*Boolean*) - (False) allow methionine methyl groups to rotate (not recommended)\n",
    "* **noadjust** (*Boolean*) - (False) do not process any rot or flip adjustments\n",
    "* **build** (*Boolean*) - (False) add H, including His sc NH, then rotate and flip groups (except for pre-existing methionine methyl hydrogens)\n",
    "* **reduce_path** (*str*) - (\"reduce\") Path to the reduce executable binary.\n",
    "* **remove_tmp** (*bool*) - (True) [WF property] Remove temporal files.\n",
    "* **restart** (*bool*) - (False) [WF property] Do not execute if output files exist.\n",
    "* **container_path** (*string*) - (None) Container path definition.\n",
    "* **container_image** (*string*) - ('afandiadib/ambertools:serial') Container image definition.\n",
    "* **container_volume_path** (*string*) - ('/tmp') Container volume path definition.\n",
    "* **container_working_dir** (*string*) - (None) Container working directory definition.\n",
    "* **container_user_id** (*string*) - (None) Container user_id definition.\n",
    "* **container_shell_path** (*string*) - ('/bin/bash') Path to default shell inside the container."
   ]
  },
  {
   "cell_type": "markdown",
   "metadata": {},
   "source": [
    "### YAML"
   ]
  },
  {
   "cell_type": "markdown",
   "metadata": {},
   "source": [
    "#### Common file config"
   ]
  },
  {
   "cell_type": "code",
   "execution_count": null,
   "metadata": {},
   "outputs": [],
   "source": [
    "properties:\n",
    "  nooh: True"
   ]
  },
  {
   "cell_type": "markdown",
   "metadata": {},
   "source": [
    "#### Docker file config"
   ]
  },
  {
   "cell_type": "code",
   "execution_count": null,
   "metadata": {},
   "outputs": [],
   "source": [
    "properties:\n",
    "  nooh: True\n",
    "  container_path: docker\n",
    "  container_image: afandiadib/ambertools:serial\n",
    "  container_volume_path: /tmp"
   ]
  },
  {
   "cell_type": "markdown",
   "metadata": {},
   "source": [
    "#### Singularity file config"
   ]
  },
  {
   "cell_type": "code",
   "execution_count": null,
   "metadata": {},
   "outputs": [],
   "source": [
    "properties:\n",
    "  nooh: True\n",
    "  container_path: singularity\n",
    "  container_image: shub://bioexcel/ambertools_singularity\n",
    "  container_volume_path: /tmp"
   ]
  },
  {
   "cell_type": "markdown",
   "metadata": {},
   "source": [
    "#### Command line"
   ]
  },
  {
   "cell_type": "code",
   "execution_count": null,
   "metadata": {},
   "outputs": [],
   "source": [
    "reduce_add_hydrogens --config data/conf/reduce_add_hydrogens.yml --input_path data/input/reduce.no.H.pdb --output_path data/output/output.reduce.H.pdb"
   ]
  },
  {
   "cell_type": "markdown",
   "metadata": {},
   "source": [
    "### JSON"
   ]
  },
  {
   "cell_type": "markdown",
   "metadata": {},
   "source": [
    "#### Common file config"
   ]
  },
  {
   "cell_type": "code",
   "execution_count": null,
   "metadata": {},
   "outputs": [],
   "source": [
    "{\n",
    "  \"properties\": {\n",
    "    \"nooh\": true\n",
    "  }\n",
    "}"
   ]
  },
  {
   "cell_type": "markdown",
   "metadata": {},
   "source": [
    "#### Docker file config"
   ]
  },
  {
   "cell_type": "code",
   "execution_count": null,
   "metadata": {},
   "outputs": [],
   "source": [
    "{\n",
    "  \"properties\": {\n",
    "    \"nooh\": true,\n",
    "    \"container_path\": \"docker\",\n",
    "    \"container_image\": \"afandiadib/ambertools:serial\",\n",
    "    \"container_volume_path\": \"/tmp\"\n",
    "  }\n",
    "}"
   ]
  },
  {
   "cell_type": "markdown",
   "metadata": {},
   "source": [
    "#### Singularity file config"
   ]
  },
  {
   "cell_type": "code",
   "execution_count": null,
   "metadata": {},
   "outputs": [],
   "source": [
    "{\n",
    "  \"properties\": {\n",
    "    \"nooh\": true,\n",
    "    \"container_path\": \"singularity\",\n",
    "    \"container_image\": \"shub://bioexcel/ambertools_singularity\",\n",
    "    \"container_volume_path\": \"/tmp\"\n",
    "  }\n",
    "}"
   ]
  },
  {
   "cell_type": "markdown",
   "metadata": {},
   "source": [
    "#### Command line"
   ]
  },
  {
   "cell_type": "code",
   "execution_count": null,
   "metadata": {},
   "outputs": [],
   "source": [
    "reduce_add_hydrogens --config data/conf/reduce_add_hydrogens.json --input_path data/input/reduce.no.H.pdb --output_path data/output/output.reduce.H.pdb"
   ]
  },
  {
   "cell_type": "markdown",
   "metadata": {},
   "source": [
    "## Reduce remove hydrogens"
   ]
  },
  {
   "cell_type": "markdown",
   "metadata": {},
   "source": [
    "Removes hydrogen atoms to small molecules."
   ]
  },
  {
   "cell_type": "markdown",
   "metadata": {},
   "source": [
    "### Get help"
   ]
  },
  {
   "cell_type": "markdown",
   "metadata": {},
   "source": [
    "Command:"
   ]
  },
  {
   "cell_type": "code",
   "execution_count": null,
   "metadata": {},
   "outputs": [],
   "source": [
    "reduce_remove_hydrogens -h"
   ]
  },
  {
   "cell_type": "code",
   "execution_count": null,
   "metadata": {},
   "outputs": [],
   "source": [
    "usage: reduce_remove_hydrogens [-h] [--config CONFIG] --input_path INPUT_PATH --output_path OUTPUT_PATH\n",
    "\n",
    "Removes hydrogen atoms to small molecules.\n",
    "\n",
    "optional arguments:\n",
    "  -h, --help            show this help message and exit\n",
    "  --config CONFIG       Configuration file\n",
    "\n",
    "required arguments:\n",
    "  --input_path INPUT_PATH\n",
    "                        Path to the input file. Accepted formats: pdb.\n",
    "  --output_path OUTPUT_PATH\n",
    "                        Path to the output file. Accepted formats: pdb."
   ]
  },
  {
   "cell_type": "markdown",
   "metadata": {},
   "source": [
    "### I / O Arguments"
   ]
  },
  {
   "cell_type": "markdown",
   "metadata": {},
   "source": [
    "Syntax: input_argument (datatype) : Definition\n",
    "\n",
    "Config input / output arguments for this building block:\n",
    "\n",
    "* **input_path** (*str*): Path to the input file. File type: input. [Sample file](https://github.com/bioexcel/biobb_chemistry/raw/master/biobb_chemistry/test/data/ambertools/reduce.H.pdb). Accepted formats: pdb.\n",
    "* **output_path** (*str*): Path to the output file. File type: output. [Sample file](https://github.com/bioexcel/biobb_chemistry/raw/master/biobb_chemistry/test/reference/ambertools/ref_reduce.remove.pdb). Accepted formats: pdb."
   ]
  },
  {
   "cell_type": "markdown",
   "metadata": {},
   "source": [
    "### Config"
   ]
  },
  {
   "cell_type": "markdown",
   "metadata": {},
   "source": [
    "Syntax: input_parameter (datatype) - (default_value) Definition\n",
    "\n",
    "Config parameters for this building block:\n",
    "\n",
    "* **reduce_path** (*str*) - (\"reduce\") Path to the reduce executable binary.\n",
    "* **remove_tmp** (*bool*) - (True) [WF property] Remove temporal files.\n",
    "* **restart** (*bool*) - (False) [WF property] Do not execute if output files exist.\n",
    "* **container_path** (*string*) - (None) Container path definition.\n",
    "* **container_image** (*string*) - ('afandiadib/ambertools:serial') Container image definition.\n",
    "* **container_volume_path** (*string*) - ('/tmp') Container volume path definition.\n",
    "* **container_working_dir** (*string*) - (None) Container working directory definition.\n",
    "* **container_user_id** (*string*) - (None) Container user_id definition.\n",
    "* **container_shell_path** (*string*) - ('/bin/bash') Path to default shell inside the container."
   ]
  },
  {
   "cell_type": "markdown",
   "metadata": {},
   "source": [
    "### YAML"
   ]
  },
  {
   "cell_type": "markdown",
   "metadata": {},
   "source": [
    "#### Common file config"
   ]
  },
  {
   "cell_type": "code",
   "execution_count": null,
   "metadata": {},
   "outputs": [],
   "source": [
    "properties:\n",
    "  reduce_path: \"reduce\""
   ]
  },
  {
   "cell_type": "markdown",
   "metadata": {},
   "source": [
    "#### Docker file config"
   ]
  },
  {
   "cell_type": "code",
   "execution_count": null,
   "metadata": {},
   "outputs": [],
   "source": [
    "properties:\n",
    "  reduce_path: \"reduce\"\n",
    "  container_path: docker\n",
    "  container_image: afandiadib/ambertools:serial\n",
    "  container_volume_path: /tmp"
   ]
  },
  {
   "cell_type": "markdown",
   "metadata": {},
   "source": [
    "#### Singularity file config"
   ]
  },
  {
   "cell_type": "code",
   "execution_count": null,
   "metadata": {},
   "outputs": [],
   "source": [
    "properties:\n",
    "  reduce_path: \"reduce\"\n",
    "  container_path: singularity\n",
    "  container_image: shub://bioexcel/ambertools_singularity\n",
    "  container_volume_path: /tmp"
   ]
  },
  {
   "cell_type": "markdown",
   "metadata": {},
   "source": [
    "#### Command line"
   ]
  },
  {
   "cell_type": "code",
   "execution_count": null,
   "metadata": {},
   "outputs": [],
   "source": [
    "reduce_remove_hydrogens --config data/conf/reduce_remove_hydrogens.yml --input_path data/input/reduce.H.pdb --output_path data/output/output.reduce.pdb"
   ]
  },
  {
   "cell_type": "markdown",
   "metadata": {},
   "source": [
    "### JSON"
   ]
  },
  {
   "cell_type": "markdown",
   "metadata": {},
   "source": [
    "#### Common file config"
   ]
  },
  {
   "cell_type": "code",
   "execution_count": null,
   "metadata": {},
   "outputs": [],
   "source": [
    "{\n",
    "  \"properties\": {\n",
    "    \"reduce_path\": \"reduce\"\n",
    "  }\n",
    "}"
   ]
  },
  {
   "cell_type": "markdown",
   "metadata": {},
   "source": [
    "#### Docker file config"
   ]
  },
  {
   "cell_type": "code",
   "execution_count": null,
   "metadata": {},
   "outputs": [],
   "source": [
    "{\n",
    "  \"properties\": {\n",
    "    \"reduce_path\": \"reduce\",\n",
    "    \"container_path\": \"docker\",\n",
    "    \"container_image\": \"afandiadib/ambertools:serial\",\n",
    "    \"container_volume_path\": \"/tmp\"\n",
    "  }\n",
    "}"
   ]
  },
  {
   "cell_type": "markdown",
   "metadata": {},
   "source": [
    "#### Singularity file config"
   ]
  },
  {
   "cell_type": "code",
   "execution_count": null,
   "metadata": {},
   "outputs": [],
   "source": [
    "{\n",
    "  \"properties\": {\n",
    "    \"reduce_path\": \"reduce\",\n",
    "    \"container_path\": \"singularity\",\n",
    "    \"container_image\": \"shub://bioexcel/ambertools_singularity\",\n",
    "    \"container_volume_path\": \"/tmp\"\n",
    "  }\n",
    "}"
   ]
  },
  {
   "cell_type": "markdown",
   "metadata": {},
   "source": [
    "#### Command line"
   ]
  },
  {
   "cell_type": "code",
   "execution_count": null,
   "metadata": {},
   "outputs": [],
   "source": [
    "reduce_remove_hydrogens --config data/conf/reduce_remove_hydrogens.json --input_path data/input/reduce.H.pdb --output_path data/output/output.reduce.pdb"
   ]
  }
 ],
 "metadata": {
  "kernelspec": {
   "display_name": "Python 3",
   "language": "python",
   "name": "python3"
  },
  "language_info": {
   "codemirror_mode": {
    "name": "ipython",
    "version": 3
   },
   "file_extension": ".py",
   "mimetype": "text/x-python",
   "name": "python",
   "nbconvert_exporter": "python",
   "pygments_lexer": "ipython3",
   "version": "3.7.6"
  }
 },
 "nbformat": 4,
 "nbformat_minor": 2
}
